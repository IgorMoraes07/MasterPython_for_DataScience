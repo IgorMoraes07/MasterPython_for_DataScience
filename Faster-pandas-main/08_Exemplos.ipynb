{
 "cells": [
  {
   "cell_type": "markdown",
   "metadata": {},
   "source": [
    "## DataFrames Alternativos\n",
    "\n",
    "### Vaex / Dask / Modin / RAPIDS\n",
    "\n",
    "#### Problemas com DataFrames Não-Pandas:\n",
    "#### - Alguns métodos não existem\n",
    "#### - Alguns possuem formas diferentes de realizar operações\n",
    "#### - Alguns requerem configurações extras"
   ]
  },
  {
   "cell_type": "markdown",
   "metadata": {},
   "source": [
    "## ==| Dask |=="
   ]
  },
  {
   "cell_type": "code",
   "execution_count": 1,
   "metadata": {},
   "outputs": [
    {
     "name": "stdout",
     "output_type": "stream",
     "text": [
      "Collecting dask[complete]\n",
      "  Downloading dask-2023.10.0-py3-none-any.whl.metadata (3.6 kB)\n",
      "Collecting click>=8.0 (from dask[complete])\n",
      "  Downloading click-8.1.7-py3-none-any.whl.metadata (3.0 kB)\n",
      "Collecting cloudpickle>=1.5.0 (from dask[complete])\n",
      "  Downloading cloudpickle-3.0.0-py3-none-any.whl.metadata (7.0 kB)\n",
      "Collecting fsspec>=2021.09.0 (from dask[complete])\n",
      "  Downloading fsspec-2023.9.2-py3-none-any.whl.metadata (6.7 kB)\n",
      "Requirement already satisfied: packaging>=20.0 in c:\\users\\igmoraes\\appdata\\local\\packages\\pythonsoftwarefoundation.python.3.11_qbz5n2kfra8p0\\localcache\\local-packages\\python311\\site-packages (from dask[complete]) (23.2)\n",
      "Collecting partd>=1.2.0 (from dask[complete])\n",
      "  Downloading partd-1.4.1-py3-none-any.whl.metadata (4.6 kB)\n",
      "Requirement already satisfied: pyyaml>=5.3.1 in c:\\users\\igmoraes\\appdata\\local\\packages\\pythonsoftwarefoundation.python.3.11_qbz5n2kfra8p0\\localcache\\local-packages\\python311\\site-packages (from dask[complete]) (6.0.1)\n",
      "Collecting toolz>=0.10.0 (from dask[complete])\n",
      "  Downloading toolz-0.12.0-py3-none-any.whl (55 kB)\n",
      "     ---------------------------------------- 0.0/55.8 kB ? eta -:--:--\n",
      "     ------------------------------------ --- 51.2/55.8 kB ? eta -:--:--\n",
      "     -------------------------------------- 55.8/55.8 kB 970.1 kB/s eta 0:00:00\n",
      "Collecting importlib-metadata>=4.13.0 (from dask[complete])\n",
      "  Downloading importlib_metadata-6.8.0-py3-none-any.whl.metadata (5.1 kB)\n",
      "Collecting pyarrow>=7.0 (from dask[complete])\n",
      "  Downloading pyarrow-13.0.0-cp311-cp311-win_amd64.whl.metadata (3.1 kB)\n",
      "Collecting lz4>=4.3.2 (from dask[complete])\n",
      "  Downloading lz4-4.3.2-cp311-cp311-win_amd64.whl (99 kB)\n",
      "     ---------------------------------------- 0.0/99.8 kB ? eta -:--:--\n",
      "     ---------------------------------------- 99.8/99.8 kB 6.0 MB/s eta 0:00:00\n",
      "Requirement already satisfied: colorama in c:\\users\\igmoraes\\appdata\\local\\packages\\pythonsoftwarefoundation.python.3.11_qbz5n2kfra8p0\\localcache\\local-packages\\python311\\site-packages (from click>=8.0->dask[complete]) (0.4.6)\n",
      "Collecting zipp>=0.5 (from importlib-metadata>=4.13.0->dask[complete])\n",
      "  Downloading zipp-3.17.0-py3-none-any.whl.metadata (3.7 kB)\n",
      "Collecting locket (from partd>=1.2.0->dask[complete])\n",
      "  Downloading locket-1.0.0-py2.py3-none-any.whl (4.4 kB)\n",
      "Requirement already satisfied: numpy>=1.16.6 in c:\\users\\igmoraes\\appdata\\local\\packages\\pythonsoftwarefoundation.python.3.11_qbz5n2kfra8p0\\localcache\\local-packages\\python311\\site-packages (from pyarrow>=7.0->dask[complete]) (1.26.0)\n",
      "Requirement already satisfied: pandas>=1.3 in c:\\users\\igmoraes\\appdata\\local\\packages\\pythonsoftwarefoundation.python.3.11_qbz5n2kfra8p0\\localcache\\local-packages\\python311\\site-packages (from dask[complete]) (2.1.1)\n",
      "Collecting bokeh>=2.4.2 (from dask[complete])\n",
      "  Downloading bokeh-3.3.0-py3-none-any.whl.metadata (12 kB)\n",
      "Requirement already satisfied: jinja2>=2.10.3 in c:\\users\\igmoraes\\appdata\\local\\packages\\pythonsoftwarefoundation.python.3.11_qbz5n2kfra8p0\\localcache\\local-packages\\python311\\site-packages (from dask[complete]) (3.1.2)\n",
      "Collecting distributed==2023.10.0 (from dask[complete])\n",
      "  Downloading distributed-2023.10.0-py3-none-any.whl.metadata (3.4 kB)\n",
      "Requirement already satisfied: msgpack>=1.0.0 in c:\\users\\igmoraes\\appdata\\local\\packages\\pythonsoftwarefoundation.python.3.11_qbz5n2kfra8p0\\localcache\\local-packages\\python311\\site-packages (from distributed==2023.10.0->dask[complete]) (1.0.7)\n",
      "Requirement already satisfied: psutil>=5.7.2 in c:\\users\\igmoraes\\appdata\\local\\packages\\pythonsoftwarefoundation.python.3.11_qbz5n2kfra8p0\\localcache\\local-packages\\python311\\site-packages (from distributed==2023.10.0->dask[complete]) (5.9.5)\n",
      "Collecting sortedcontainers>=2.0.5 (from distributed==2023.10.0->dask[complete])\n",
      "  Downloading sortedcontainers-2.4.0-py2.py3-none-any.whl (29 kB)\n",
      "Collecting tblib>=1.6.0 (from distributed==2023.10.0->dask[complete])\n",
      "  Downloading tblib-2.0.0-py3-none-any.whl.metadata (25 kB)\n",
      "Requirement already satisfied: tornado>=6.0.4 in c:\\users\\igmoraes\\appdata\\local\\packages\\pythonsoftwarefoundation.python.3.11_qbz5n2kfra8p0\\localcache\\local-packages\\python311\\site-packages (from distributed==2023.10.0->dask[complete]) (6.3.3)\n",
      "Requirement already satisfied: urllib3>=1.24.3 in c:\\users\\igmoraes\\appdata\\local\\packages\\pythonsoftwarefoundation.python.3.11_qbz5n2kfra8p0\\localcache\\local-packages\\python311\\site-packages (from distributed==2023.10.0->dask[complete]) (2.0.6)\n",
      "Collecting zict>=3.0.0 (from distributed==2023.10.0->dask[complete])\n",
      "  Downloading zict-3.0.0-py2.py3-none-any.whl (43 kB)\n",
      "     ---------------------------------------- 0.0/43.3 kB ? eta -:--:--\n",
      "     ---------------------------------------- 43.3/43.3 kB 1.1 MB/s eta 0:00:00\n",
      "Requirement already satisfied: contourpy>=1 in c:\\users\\igmoraes\\appdata\\local\\packages\\pythonsoftwarefoundation.python.3.11_qbz5n2kfra8p0\\localcache\\local-packages\\python311\\site-packages (from bokeh>=2.4.2->dask[complete]) (1.1.1)\n",
      "Requirement already satisfied: pillow>=7.1.0 in c:\\users\\igmoraes\\appdata\\local\\packages\\pythonsoftwarefoundation.python.3.11_qbz5n2kfra8p0\\localcache\\local-packages\\python311\\site-packages (from bokeh>=2.4.2->dask[complete]) (10.0.1)\n",
      "Collecting xyzservices>=2021.09.1 (from bokeh>=2.4.2->dask[complete])\n",
      "  Downloading xyzservices-2023.10.0-py3-none-any.whl.metadata (4.0 kB)\n",
      "Requirement already satisfied: MarkupSafe>=2.0 in c:\\users\\igmoraes\\appdata\\local\\packages\\pythonsoftwarefoundation.python.3.11_qbz5n2kfra8p0\\localcache\\local-packages\\python311\\site-packages (from jinja2>=2.10.3->dask[complete]) (2.1.3)\n",
      "Requirement already satisfied: python-dateutil>=2.8.2 in c:\\users\\igmoraes\\appdata\\local\\packages\\pythonsoftwarefoundation.python.3.11_qbz5n2kfra8p0\\localcache\\local-packages\\python311\\site-packages (from pandas>=1.3->dask[complete]) (2.8.2)\n",
      "Requirement already satisfied: pytz>=2020.1 in c:\\users\\igmoraes\\appdata\\local\\packages\\pythonsoftwarefoundation.python.3.11_qbz5n2kfra8p0\\localcache\\local-packages\\python311\\site-packages (from pandas>=1.3->dask[complete]) (2023.3.post1)\n",
      "Requirement already satisfied: tzdata>=2022.1 in c:\\users\\igmoraes\\appdata\\local\\packages\\pythonsoftwarefoundation.python.3.11_qbz5n2kfra8p0\\localcache\\local-packages\\python311\\site-packages (from pandas>=1.3->dask[complete]) (2023.3)\n",
      "Requirement already satisfied: six>=1.5 in c:\\users\\igmoraes\\appdata\\local\\packages\\pythonsoftwarefoundation.python.3.11_qbz5n2kfra8p0\\localcache\\local-packages\\python311\\site-packages (from python-dateutil>=2.8.2->pandas>=1.3->dask[complete]) (1.16.0)\n",
      "Downloading click-8.1.7-py3-none-any.whl (97 kB)\n",
      "   ---------------------------------------- 0.0/97.9 kB ? eta -:--:--\n",
      "   ---------------------------------------- 97.9/97.9 kB 2.8 MB/s eta 0:00:00\n",
      "Downloading cloudpickle-3.0.0-py3-none-any.whl (20 kB)\n",
      "Downloading fsspec-2023.9.2-py3-none-any.whl (173 kB)\n",
      "   ---------------------------------------- 0.0/173.4 kB ? eta -:--:--\n",
      "   ---------------------------------------- 173.4/173.4 kB 5.3 MB/s eta 0:00:00\n",
      "Downloading importlib_metadata-6.8.0-py3-none-any.whl (22 kB)\n",
      "Downloading partd-1.4.1-py3-none-any.whl (18 kB)\n",
      "Downloading pyarrow-13.0.0-cp311-cp311-win_amd64.whl (24.3 MB)\n",
      "   ---------------------------------------- 0.0/24.3 MB ? eta -:--:--\n",
      "    --------------------------------------- 0.3/24.3 MB 6.7 MB/s eta 0:00:04\n",
      "    --------------------------------------- 0.4/24.3 MB 7.8 MB/s eta 0:00:04\n",
      "    --------------------------------------- 0.4/24.3 MB 7.8 MB/s eta 0:00:04\n",
      "    --------------------------------------- 0.4/24.3 MB 7.8 MB/s eta 0:00:04\n",
      "    --------------------------------------- 0.4/24.3 MB 7.8 MB/s eta 0:00:04\n",
      "    --------------------------------------- 0.4/24.3 MB 7.8 MB/s eta 0:00:04\n",
      "    --------------------------------------- 0.4/24.3 MB 7.8 MB/s eta 0:00:04\n",
      "    --------------------------------------- 0.4/24.3 MB 7.8 MB/s eta 0:00:04\n",
      "   - -------------------------------------- 0.6/24.3 MB 1.7 MB/s eta 0:00:15\n",
      "   - -------------------------------------- 0.9/24.3 MB 2.4 MB/s eta 0:00:10\n",
      "   -- ------------------------------------- 1.3/24.3 MB 2.9 MB/s eta 0:00:08\n",
      "   -- ------------------------------------- 1.8/24.3 MB 3.7 MB/s eta 0:00:07\n",
      "   --- ------------------------------------ 2.3/24.3 MB 4.4 MB/s eta 0:00:06\n",
      "   ---- ----------------------------------- 2.9/24.3 MB 4.9 MB/s eta 0:00:05\n",
      "   ----- ---------------------------------- 3.3/24.3 MB 5.4 MB/s eta 0:00:04\n",
      "   ------ --------------------------------- 3.7/24.3 MB 5.7 MB/s eta 0:00:04\n",
      "   ------- -------------------------------- 4.3/24.3 MB 6.1 MB/s eta 0:00:04\n",
      "   ------- -------------------------------- 4.5/24.3 MB 5.9 MB/s eta 0:00:04\n",
      "   -------- ------------------------------- 5.0/24.3 MB 6.4 MB/s eta 0:00:04\n",
      "   --------- ------------------------------ 5.6/24.3 MB 6.7 MB/s eta 0:00:03\n",
      "   --------- ------------------------------ 6.0/24.3 MB 6.7 MB/s eta 0:00:03\n",
      "   ---------- ----------------------------- 6.5/24.3 MB 7.0 MB/s eta 0:00:03\n",
      "   ----------- ---------------------------- 6.9/24.3 MB 7.1 MB/s eta 0:00:03\n",
      "   ------------ --------------------------- 7.3/24.3 MB 7.3 MB/s eta 0:00:03\n",
      "   ------------ --------------------------- 7.8/24.3 MB 7.4 MB/s eta 0:00:03\n",
      "   ------------- -------------------------- 8.3/24.3 MB 7.6 MB/s eta 0:00:03\n",
      "   -------------- ------------------------- 8.7/24.3 MB 7.6 MB/s eta 0:00:03\n",
      "   --------------- ------------------------ 9.2/24.3 MB 7.8 MB/s eta 0:00:02\n",
      "   --------------- ------------------------ 9.6/24.3 MB 7.9 MB/s eta 0:00:02\n",
      "   ---------------- ----------------------- 10.0/24.3 MB 7.9 MB/s eta 0:00:02\n",
      "   ----------------- ---------------------- 10.4/24.3 MB 8.1 MB/s eta 0:00:02\n",
      "   ----------------- ---------------------- 10.9/24.3 MB 10.2 MB/s eta 0:00:02\n",
      "   ------------------ --------------------- 11.2/24.3 MB 10.4 MB/s eta 0:00:02\n",
      "   ------------------- -------------------- 11.6/24.3 MB 10.2 MB/s eta 0:00:02\n",
      "   ------------------- -------------------- 12.0/24.3 MB 10.2 MB/s eta 0:00:02\n",
      "   -------------------- ------------------- 12.5/24.3 MB 10.2 MB/s eta 0:00:02\n",
      "   --------------------- ------------------ 12.9/24.3 MB 10.1 MB/s eta 0:00:02\n",
      "   --------------------- ------------------ 13.3/24.3 MB 10.1 MB/s eta 0:00:02\n",
      "   ---------------------- ----------------- 13.7/24.3 MB 10.1 MB/s eta 0:00:02\n",
      "   ----------------------- ---------------- 14.2/24.3 MB 10.1 MB/s eta 0:00:02\n",
      "   ----------------------- ---------------- 14.4/24.3 MB 10.1 MB/s eta 0:00:01\n",
      "   ----------------------- ---------------- 14.4/24.3 MB 10.1 MB/s eta 0:00:01\n",
      "   ------------------------ --------------- 14.8/24.3 MB 9.6 MB/s eta 0:00:01\n",
      "   ------------------------- -------------- 15.4/24.3 MB 9.6 MB/s eta 0:00:01\n",
      "   -------------------------- ------------- 15.9/24.3 MB 9.6 MB/s eta 0:00:01\n",
      "   -------------------------- ------------- 16.3/24.3 MB 9.6 MB/s eta 0:00:01\n",
      "   --------------------------- ------------ 16.8/24.3 MB 9.6 MB/s eta 0:00:01\n",
      "   ---------------------------- ----------- 17.2/24.3 MB 9.6 MB/s eta 0:00:01\n",
      "   ----------------------------- ---------- 17.7/24.3 MB 9.5 MB/s eta 0:00:01\n",
      "   ----------------------------- ---------- 18.1/24.3 MB 9.6 MB/s eta 0:00:01\n",
      "   ------------------------------ --------- 18.5/24.3 MB 9.6 MB/s eta 0:00:01\n",
      "   ------------------------------- -------- 18.9/24.3 MB 9.6 MB/s eta 0:00:01\n",
      "   ------------------------------- -------- 19.3/24.3 MB 9.5 MB/s eta 0:00:01\n",
      "   -------------------------------- ------- 19.8/24.3 MB 9.5 MB/s eta 0:00:01\n",
      "   --------------------------------- ------ 20.2/24.3 MB 9.5 MB/s eta 0:00:01\n",
      "   --------------------------------- ------ 20.6/24.3 MB 9.4 MB/s eta 0:00:01\n",
      "   ---------------------------------- ----- 20.8/24.3 MB 9.5 MB/s eta 0:00:01\n",
      "   ----------------------------------- ---- 21.3/24.3 MB 9.4 MB/s eta 0:00:01\n",
      "   ----------------------------------- ---- 21.7/24.3 MB 9.5 MB/s eta 0:00:01\n",
      "   ----------------------------------- ---- 21.8/24.3 MB 9.4 MB/s eta 0:00:01\n",
      "   ------------------------------------ --- 22.4/24.3 MB 9.2 MB/s eta 0:00:01\n",
      "   ------------------------------------- -- 22.8/24.3 MB 9.4 MB/s eta 0:00:01\n",
      "   ------------------------------------- -- 23.1/24.3 MB 9.2 MB/s eta 0:00:01\n",
      "   ------------------------------------- -- 23.1/24.3 MB 9.2 MB/s eta 0:00:01\n",
      "   -------------------------------------- - 23.5/24.3 MB 8.7 MB/s eta 0:00:01\n",
      "   ---------------------------------------  24.0/24.3 MB 8.7 MB/s eta 0:00:01\n",
      "   ---------------------------------------  24.3/24.3 MB 8.6 MB/s eta 0:00:01\n",
      "   ---------------------------------------  24.3/24.3 MB 8.6 MB/s eta 0:00:01\n",
      "   ---------------------------------------- 24.3/24.3 MB 8.2 MB/s eta 0:00:00\n",
      "Downloading dask-2023.10.0-py3-none-any.whl (1.2 MB)\n",
      "   ---------------------------------------- 0.0/1.2 MB ? eta -:--:--\n",
      "   ------------- -------------------------- 0.4/1.2 MB 12.5 MB/s eta 0:00:01\n",
      "   -------------------------- ------------- 0.8/1.2 MB 12.7 MB/s eta 0:00:01\n",
      "   ---------------------------------------- 1.2/1.2 MB 10.8 MB/s eta 0:00:00\n",
      "Downloading distributed-2023.10.0-py3-none-any.whl (1.0 MB)\n",
      "   ---------------------------------------- 0.0/1.0 MB ? eta -:--:--\n",
      "   ------------------------- -------------- 0.6/1.0 MB 13.3 MB/s eta 0:00:01\n",
      "   ---------------------------------------  1.0/1.0 MB 10.5 MB/s eta 0:00:01\n",
      "   ---------------------------------------- 1.0/1.0 MB 10.5 MB/s eta 0:00:00\n",
      "Downloading bokeh-3.3.0-py3-none-any.whl (6.8 MB)\n",
      "   ---------------------------------------- 0.0/6.8 MB ? eta -:--:--\n",
      "   -- ------------------------------------- 0.5/6.8 MB 14.2 MB/s eta 0:00:01\n",
      "   ----- ---------------------------------- 0.9/6.8 MB 11.8 MB/s eta 0:00:01\n",
      "   -------- ------------------------------- 1.4/6.8 MB 10.8 MB/s eta 0:00:01\n",
      "   ----------- ---------------------------- 1.9/6.8 MB 11.2 MB/s eta 0:00:01\n",
      "   ------------- -------------------------- 2.4/6.8 MB 10.8 MB/s eta 0:00:01\n",
      "   ---------------- ----------------------- 2.8/6.8 MB 11.1 MB/s eta 0:00:01\n",
      "   ------------------ --------------------- 3.2/6.8 MB 10.7 MB/s eta 0:00:01\n",
      "   --------------------- ------------------ 3.6/6.8 MB 10.5 MB/s eta 0:00:01\n",
      "   ------------------------ --------------- 4.1/6.8 MB 11.0 MB/s eta 0:00:01\n",
      "   ------------------------ --------------- 4.1/6.8 MB 11.0 MB/s eta 0:00:01\n",
      "   -------------------------- ------------- 4.6/6.8 MB 9.8 MB/s eta 0:00:01\n",
      "   ----------------------------- ---------- 5.0/6.8 MB 9.7 MB/s eta 0:00:01\n",
      "   -------------------------------- ------- 5.5/6.8 MB 10.0 MB/s eta 0:00:01\n",
      "   ---------------------------------- ----- 5.8/6.8 MB 9.8 MB/s eta 0:00:01\n",
      "   ------------------------------------ --- 6.2/6.8 MB 9.9 MB/s eta 0:00:01\n",
      "   -------------------------------------- - 6.6/6.8 MB 9.9 MB/s eta 0:00:01\n",
      "   ---------------------------------------- 6.8/6.8 MB 9.5 MB/s eta 0:00:00\n",
      "Downloading zipp-3.17.0-py3-none-any.whl (7.4 kB)\n",
      "Downloading tblib-2.0.0-py3-none-any.whl (11 kB)\n",
      "Downloading xyzservices-2023.10.0-py3-none-any.whl (57 kB)\n",
      "   ---------------------------------------- 0.0/57.2 kB ? eta -:--:--\n",
      "   ---------------------------------------- 57.2/57.2 kB ? eta 0:00:00\n",
      "Installing collected packages: sortedcontainers, zipp, zict, xyzservices, toolz, tblib, pyarrow, lz4, locket, fsspec, cloudpickle, click, partd, importlib-metadata, dask, bokeh, distributed\n",
      "Successfully installed bokeh-3.3.0 click-8.1.7 cloudpickle-3.0.0 dask-2023.10.0 distributed-2023.10.0 fsspec-2023.9.2 importlib-metadata-6.8.0 locket-1.0.0 lz4-4.3.2 partd-1.4.1 pyarrow-13.0.0 sortedcontainers-2.4.0 tblib-2.0.0 toolz-0.12.0 xyzservices-2023.10.0 zict-3.0.0 zipp-3.17.0\n",
      "Note: you may need to restart the kernel to use updated packages.\n"
     ]
    }
   ],
   "source": [
    "## Instalar o Dask\n",
    "##pip install \"dask[complete]\""
   ]
  },
  {
   "cell_type": "code",
   "execution_count": 1,
   "metadata": {},
   "outputs": [],
   "source": [
    "import dask.dataframe as dd"
   ]
  },
  {
   "cell_type": "code",
   "execution_count": 8,
   "metadata": {},
   "outputs": [],
   "source": [
    "df = dd.read_csv('AltDataFrames/*.csv.xz', compression='lzma', blocksize=None)"
   ]
  },
  {
   "cell_type": "code",
   "execution_count": 9,
   "metadata": {},
   "outputs": [
    {
     "data": {
      "text/html": [
       "<div><strong>Dask DataFrame Structure:</strong></div>\n",
       "<div>\n",
       "<style scoped>\n",
       "    .dataframe tbody tr th:only-of-type {\n",
       "        vertical-align: middle;\n",
       "    }\n",
       "\n",
       "    .dataframe tbody tr th {\n",
       "        vertical-align: top;\n",
       "    }\n",
       "\n",
       "    .dataframe thead th {\n",
       "        text-align: right;\n",
       "    }\n",
       "</style>\n",
       "<table border=\"1\" class=\"dataframe\">\n",
       "  <thead>\n",
       "    <tr style=\"text-align: right;\">\n",
       "      <th></th>\n",
       "      <th>origin</th>\n",
       "      <th>time</th>\n",
       "      <th>method</th>\n",
       "      <th>path</th>\n",
       "      <th>status_code</th>\n",
       "      <th>size</th>\n",
       "    </tr>\n",
       "    <tr>\n",
       "      <th>npartitions=5</th>\n",
       "      <th></th>\n",
       "      <th></th>\n",
       "      <th></th>\n",
       "      <th></th>\n",
       "      <th></th>\n",
       "      <th></th>\n",
       "    </tr>\n",
       "  </thead>\n",
       "  <tbody>\n",
       "    <tr>\n",
       "      <th></th>\n",
       "      <td>string</td>\n",
       "      <td>string</td>\n",
       "      <td>string</td>\n",
       "      <td>string</td>\n",
       "      <td>int64</td>\n",
       "      <td>int64</td>\n",
       "    </tr>\n",
       "    <tr>\n",
       "      <th></th>\n",
       "      <td>...</td>\n",
       "      <td>...</td>\n",
       "      <td>...</td>\n",
       "      <td>...</td>\n",
       "      <td>...</td>\n",
       "      <td>...</td>\n",
       "    </tr>\n",
       "    <tr>\n",
       "      <th>...</th>\n",
       "      <td>...</td>\n",
       "      <td>...</td>\n",
       "      <td>...</td>\n",
       "      <td>...</td>\n",
       "      <td>...</td>\n",
       "      <td>...</td>\n",
       "    </tr>\n",
       "    <tr>\n",
       "      <th></th>\n",
       "      <td>...</td>\n",
       "      <td>...</td>\n",
       "      <td>...</td>\n",
       "      <td>...</td>\n",
       "      <td>...</td>\n",
       "      <td>...</td>\n",
       "    </tr>\n",
       "    <tr>\n",
       "      <th></th>\n",
       "      <td>...</td>\n",
       "      <td>...</td>\n",
       "      <td>...</td>\n",
       "      <td>...</td>\n",
       "      <td>...</td>\n",
       "      <td>...</td>\n",
       "    </tr>\n",
       "  </tbody>\n",
       "</table>\n",
       "</div>\n",
       "<div>Dask Name: to_pyarrow_string, 2 graph layers</div>"
      ],
      "text/plain": [
       "Dask DataFrame Structure:\n",
       "               origin    time  method    path status_code   size\n",
       "npartitions=5                                                   \n",
       "               string  string  string  string       int64  int64\n",
       "                  ...     ...     ...     ...         ...    ...\n",
       "...               ...     ...     ...     ...         ...    ...\n",
       "                  ...     ...     ...     ...         ...    ...\n",
       "                  ...     ...     ...     ...         ...    ...\n",
       "Dask Name: to_pyarrow_string, 2 graph layers"
      ]
     },
     "execution_count": 9,
     "metadata": {},
     "output_type": "execute_result"
    }
   ],
   "source": [
    "df"
   ]
  },
  {
   "cell_type": "code",
   "execution_count": 10,
   "metadata": {},
   "outputs": [
    {
     "data": {
      "text/plain": [
       "1000000"
      ]
     },
     "execution_count": 10,
     "metadata": {},
     "output_type": "execute_result"
    }
   ],
   "source": [
    "len(df)"
   ]
  },
  {
   "cell_type": "code",
   "execution_count": 11,
   "metadata": {},
   "outputs": [
    {
     "data": {
      "text/plain": [
       "Dask Series Structure:\n",
       "npartitions=1\n",
       "    int64\n",
       "      ...\n",
       "Name: size, dtype: int64\n",
       "Dask Name: series-groupby-count-agg, 5 graph layers"
      ]
     },
     "execution_count": 11,
     "metadata": {},
     "output_type": "execute_result"
    }
   ],
   "source": [
    "df.groupby('status_code')['size'].count()"
   ]
  },
  {
   "cell_type": "code",
   "execution_count": 12,
   "metadata": {},
   "outputs": [
    {
     "data": {
      "text/plain": [
       "status_code\n",
       "200    893702\n",
       "302     27783\n",
       "304     72942\n",
       "403        18\n",
       "404      5550\n",
       "501         4\n",
       "500         1\n",
       "Name: size, dtype: int64"
      ]
     },
     "execution_count": 12,
     "metadata": {},
     "output_type": "execute_result"
    }
   ],
   "source": [
    "df.groupby('status_code')['size'].count().compute()"
   ]
  },
  {
   "cell_type": "code",
   "execution_count": null,
   "metadata": {},
   "outputs": [],
   "source": []
  }
 ],
 "metadata": {
  "kernelspec": {
   "display_name": "Python 3",
   "language": "python",
   "name": "python3"
  },
  "language_info": {
   "codemirror_mode": {
    "name": "ipython",
    "version": 3
   },
   "file_extension": ".py",
   "mimetype": "text/x-python",
   "name": "python",
   "nbconvert_exporter": "python",
   "pygments_lexer": "ipython3",
   "version": "3.11.6"
  }
 },
 "nbformat": 4,
 "nbformat_minor": 2
}
