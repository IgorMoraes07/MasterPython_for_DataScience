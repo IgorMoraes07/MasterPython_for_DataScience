{
 "cells": [
  {
   "cell_type": "code",
   "execution_count": null,
   "metadata": {},
   "outputs": [],
   "source": [
    "##pip install tables\n",
    "##pip install h5py      ##Instala um leitor de HDF5 para Python"
   ]
  },
  {
   "cell_type": "code",
   "execution_count": 10,
   "metadata": {},
   "outputs": [],
   "source": [
    "import tables\n",
    "import pandas as pd\n",
    "##import h5py"
   ]
  },
  {
   "cell_type": "code",
   "execution_count": 15,
   "metadata": {},
   "outputs": [],
   "source": [
    "store = pd.HDFStore(\"stocks.h5\", 'r')"
   ]
  },
  {
   "cell_type": "code",
   "execution_count": 16,
   "metadata": {},
   "outputs": [
    {
     "name": "stdout",
     "output_type": "stream",
     "text": [
      "<class 'pandas.io.pytables.HDFStore'>\n",
      "File path: stocks.h5\n",
      "\n"
     ]
    }
   ],
   "source": [
    "print(store)"
   ]
  },
  {
   "cell_type": "code",
   "execution_count": 12,
   "metadata": {},
   "outputs": [
    {
     "data": {
      "text/plain": [
       "['/stocks']"
      ]
     },
     "execution_count": 12,
     "metadata": {},
     "output_type": "execute_result"
    }
   ],
   "source": [
    "store.keys()"
   ]
  },
  {
   "cell_type": "code",
   "execution_count": 19,
   "metadata": {},
   "outputs": [
    {
     "ename": "HDF5ExtError",
     "evalue": "HDF5 error back trace\n\n  File \"C:\\b\\abs_e4nt8ttmb0\\croot\\hdf5_1686163951797\\work\\src\\H5Dio.c\", line 179, in H5Dread\n    can't read data\n  File \"C:\\b\\abs_e4nt8ttmb0\\croot\\hdf5_1686163951797\\work\\src\\H5VLcallback.c\", line 2011, in H5VL_dataset_read\n    dataset read failed\n  File \"C:\\b\\abs_e4nt8ttmb0\\croot\\hdf5_1686163951797\\work\\src\\H5VLcallback.c\", line 1978, in H5VL__dataset_read\n    dataset read failed\n  File \"C:\\b\\abs_e4nt8ttmb0\\croot\\hdf5_1686163951797\\work\\src\\H5VLnative_dataset.c\", line 166, in H5VL__native_dataset_read\n    can't read data\n  File \"C:\\b\\abs_e4nt8ttmb0\\croot\\hdf5_1686163951797\\work\\src\\H5Dio.c\", line 545, in H5D__read\n    can't read data\n  File \"C:\\b\\abs_e4nt8ttmb0\\croot\\hdf5_1686163951797\\work\\src\\H5Dchunk.c\", line 2549, in H5D__chunk_read\n    unable to read raw data chunk\n  File \"C:\\b\\abs_e4nt8ttmb0\\croot\\hdf5_1686163951797\\work\\src\\H5Dchunk.c\", line 3904, in H5D__chunk_lock\n    data pipeline read failed\n  File \"C:\\b\\abs_e4nt8ttmb0\\croot\\hdf5_1686163951797\\work\\src\\H5Z.c\", line 1365, in H5Z_pipeline\n    required filter 'lzo' is not registered\n  File \"C:\\b\\abs_e4nt8ttmb0\\croot\\hdf5_1686163951797\\work\\src\\H5PLint.c\", line 261, in H5PL_load\n    search in path table failed\n  File \"C:\\b\\abs_e4nt8ttmb0\\croot\\hdf5_1686163951797\\work\\src\\H5PLpath.c\", line 802, in H5PL__find_plugin_in_path_table\n    search in path C:\\ProgramData\\hdf5\\lib\\plugin encountered an error\n  File \"C:\\b\\abs_e4nt8ttmb0\\croot\\hdf5_1686163951797\\work\\src\\H5PLpath.c\", line 936, in H5PL__find_plugin_in_path\n    can't open directory\n\nEnd of HDF5 error back trace\n\nProblems reading records.",
     "output_type": "error",
     "traceback": [
      "\u001b[1;31m---------------------------------------------------------------------------\u001b[0m",
      "\u001b[1;31mHDF5ExtError\u001b[0m                              Traceback (most recent call last)",
      "\u001b[1;32mc:\\IgorDeloitte\\Python\\Faster-pandas-main\\06_Using_HDF5.ipynb Cell 6\u001b[0m line \u001b[0;36m2\n\u001b[0;32m      <a href='vscode-notebook-cell:/c%3A/IgorDeloitte/Python/Faster-pandas-main/06_Using_HDF5.ipynb#X15sZmlsZQ%3D%3D?line=0'>1</a>\u001b[0m \u001b[39m##df = pd.read_hdf('stocks.h5', 'stocks')\u001b[39;00m\n\u001b[1;32m----> <a href='vscode-notebook-cell:/c%3A/IgorDeloitte/Python/Faster-pandas-main/06_Using_HDF5.ipynb#X15sZmlsZQ%3D%3D?line=1'>2</a>\u001b[0m df \u001b[39m=\u001b[39m store[\u001b[39m'\u001b[39;49m\u001b[39mstocks\u001b[39;49m\u001b[39m'\u001b[39;49m]\n",
      "File \u001b[1;32m~\\AppData\\Local\\Packages\\PythonSoftwareFoundation.Python.3.11_qbz5n2kfra8p0\\LocalCache\\local-packages\\Python311\\site-packages\\pandas\\io\\pytables.py:602\u001b[0m, in \u001b[0;36mHDFStore.__getitem__\u001b[1;34m(self, key)\u001b[0m\n\u001b[0;32m    601\u001b[0m \u001b[39mdef\u001b[39;00m \u001b[39m__getitem__\u001b[39m(\u001b[39mself\u001b[39m, key: \u001b[39mstr\u001b[39m):\n\u001b[1;32m--> 602\u001b[0m     \u001b[39mreturn\u001b[39;00m \u001b[39mself\u001b[39;49m\u001b[39m.\u001b[39;49mget(key)\n",
      "File \u001b[1;32m~\\AppData\\Local\\Packages\\PythonSoftwareFoundation.Python.3.11_qbz5n2kfra8p0\\LocalCache\\local-packages\\Python311\\site-packages\\pandas\\io\\pytables.py:813\u001b[0m, in \u001b[0;36mHDFStore.get\u001b[1;34m(self, key)\u001b[0m\n\u001b[0;32m    811\u001b[0m \u001b[39mif\u001b[39;00m group \u001b[39mis\u001b[39;00m \u001b[39mNone\u001b[39;00m:\n\u001b[0;32m    812\u001b[0m     \u001b[39mraise\u001b[39;00m \u001b[39mKeyError\u001b[39;00m(\u001b[39mf\u001b[39m\u001b[39m\"\u001b[39m\u001b[39mNo object named \u001b[39m\u001b[39m{\u001b[39;00mkey\u001b[39m}\u001b[39;00m\u001b[39m in the file\u001b[39m\u001b[39m\"\u001b[39m)\n\u001b[1;32m--> 813\u001b[0m \u001b[39mreturn\u001b[39;00m \u001b[39mself\u001b[39;49m\u001b[39m.\u001b[39;49m_read_group(group)\n",
      "File \u001b[1;32m~\\AppData\\Local\\Packages\\PythonSoftwareFoundation.Python.3.11_qbz5n2kfra8p0\\LocalCache\\local-packages\\Python311\\site-packages\\pandas\\io\\pytables.py:1880\u001b[0m, in \u001b[0;36mHDFStore._read_group\u001b[1;34m(self, group)\u001b[0m\n\u001b[0;32m   1878\u001b[0m s \u001b[39m=\u001b[39m \u001b[39mself\u001b[39m\u001b[39m.\u001b[39m_create_storer(group)\n\u001b[0;32m   1879\u001b[0m s\u001b[39m.\u001b[39minfer_axes()\n\u001b[1;32m-> 1880\u001b[0m \u001b[39mreturn\u001b[39;00m s\u001b[39m.\u001b[39;49mread()\n",
      "File \u001b[1;32m~\\AppData\\Local\\Packages\\PythonSoftwareFoundation.Python.3.11_qbz5n2kfra8p0\\LocalCache\\local-packages\\Python311\\site-packages\\pandas\\io\\pytables.py:4627\u001b[0m, in \u001b[0;36mAppendableFrameTable.read\u001b[1;34m(self, where, columns, start, stop)\u001b[0m\n\u001b[0;32m   4624\u001b[0m \u001b[39mif\u001b[39;00m \u001b[39mnot\u001b[39;00m \u001b[39mself\u001b[39m\u001b[39m.\u001b[39minfer_axes():\n\u001b[0;32m   4625\u001b[0m     \u001b[39mreturn\u001b[39;00m \u001b[39mNone\u001b[39;00m\n\u001b[1;32m-> 4627\u001b[0m result \u001b[39m=\u001b[39m \u001b[39mself\u001b[39;49m\u001b[39m.\u001b[39;49m_read_axes(where\u001b[39m=\u001b[39;49mwhere, start\u001b[39m=\u001b[39;49mstart, stop\u001b[39m=\u001b[39;49mstop)\n\u001b[0;32m   4629\u001b[0m info \u001b[39m=\u001b[39m (\n\u001b[0;32m   4630\u001b[0m     \u001b[39mself\u001b[39m\u001b[39m.\u001b[39minfo\u001b[39m.\u001b[39mget(\u001b[39mself\u001b[39m\u001b[39m.\u001b[39mnon_index_axes[\u001b[39m0\u001b[39m][\u001b[39m0\u001b[39m], {})\n\u001b[0;32m   4631\u001b[0m     \u001b[39mif\u001b[39;00m \u001b[39mlen\u001b[39m(\u001b[39mself\u001b[39m\u001b[39m.\u001b[39mnon_index_axes)\n\u001b[0;32m   4632\u001b[0m     \u001b[39melse\u001b[39;00m {}\n\u001b[0;32m   4633\u001b[0m )\n\u001b[0;32m   4635\u001b[0m inds \u001b[39m=\u001b[39m [i \u001b[39mfor\u001b[39;00m i, ax \u001b[39min\u001b[39;00m \u001b[39menumerate\u001b[39m(\u001b[39mself\u001b[39m\u001b[39m.\u001b[39maxes) \u001b[39mif\u001b[39;00m ax \u001b[39mis\u001b[39;00m \u001b[39mself\u001b[39m\u001b[39m.\u001b[39mindex_axes[\u001b[39m0\u001b[39m]]\n",
      "File \u001b[1;32m~\\AppData\\Local\\Packages\\PythonSoftwareFoundation.Python.3.11_qbz5n2kfra8p0\\LocalCache\\local-packages\\Python311\\site-packages\\pandas\\io\\pytables.py:3814\u001b[0m, in \u001b[0;36mTable._read_axes\u001b[1;34m(self, where, start, stop)\u001b[0m\n\u001b[0;32m   3812\u001b[0m \u001b[39m# create the selection\u001b[39;00m\n\u001b[0;32m   3813\u001b[0m selection \u001b[39m=\u001b[39m Selection(\u001b[39mself\u001b[39m, where\u001b[39m=\u001b[39mwhere, start\u001b[39m=\u001b[39mstart, stop\u001b[39m=\u001b[39mstop)\n\u001b[1;32m-> 3814\u001b[0m values \u001b[39m=\u001b[39m selection\u001b[39m.\u001b[39;49mselect()\n\u001b[0;32m   3816\u001b[0m results \u001b[39m=\u001b[39m []\n\u001b[0;32m   3817\u001b[0m \u001b[39m# convert the data\u001b[39;00m\n",
      "File \u001b[1;32m~\\AppData\\Local\\Packages\\PythonSoftwareFoundation.Python.3.11_qbz5n2kfra8p0\\LocalCache\\local-packages\\Python311\\site-packages\\pandas\\io\\pytables.py:5380\u001b[0m, in \u001b[0;36mSelection.select\u001b[1;34m(self)\u001b[0m\n\u001b[0;32m   5378\u001b[0m \u001b[39melif\u001b[39;00m \u001b[39mself\u001b[39m\u001b[39m.\u001b[39mcoordinates \u001b[39mis\u001b[39;00m \u001b[39mnot\u001b[39;00m \u001b[39mNone\u001b[39;00m:\n\u001b[0;32m   5379\u001b[0m     \u001b[39mreturn\u001b[39;00m \u001b[39mself\u001b[39m\u001b[39m.\u001b[39mtable\u001b[39m.\u001b[39mtable\u001b[39m.\u001b[39mread_coordinates(\u001b[39mself\u001b[39m\u001b[39m.\u001b[39mcoordinates)\n\u001b[1;32m-> 5380\u001b[0m \u001b[39mreturn\u001b[39;00m \u001b[39mself\u001b[39;49m\u001b[39m.\u001b[39;49mtable\u001b[39m.\u001b[39;49mtable\u001b[39m.\u001b[39;49mread(start\u001b[39m=\u001b[39;49m\u001b[39mself\u001b[39;49m\u001b[39m.\u001b[39;49mstart, stop\u001b[39m=\u001b[39;49m\u001b[39mself\u001b[39;49m\u001b[39m.\u001b[39;49mstop)\n",
      "File \u001b[1;32m~\\AppData\\Local\\Packages\\PythonSoftwareFoundation.Python.3.11_qbz5n2kfra8p0\\LocalCache\\local-packages\\Python311\\site-packages\\tables\\table.py:1900\u001b[0m, in \u001b[0;36mTable.read\u001b[1;34m(self, start, stop, step, field, out)\u001b[0m\n\u001b[0;32m   1895\u001b[0m     \u001b[39mraise\u001b[39;00m \u001b[39mTypeError\u001b[39;00m(msg)\n\u001b[0;32m   1897\u001b[0m start, stop, step \u001b[39m=\u001b[39m \u001b[39mself\u001b[39m\u001b[39m.\u001b[39m_process_range(start, stop, step,\n\u001b[0;32m   1898\u001b[0m                                         warn_negstep\u001b[39m=\u001b[39m\u001b[39mFalse\u001b[39;00m)\n\u001b[1;32m-> 1900\u001b[0m arr \u001b[39m=\u001b[39m \u001b[39mself\u001b[39;49m\u001b[39m.\u001b[39;49m_read(start, stop, step, field, out)\n\u001b[0;32m   1901\u001b[0m \u001b[39mreturn\u001b[39;00m internal_to_flavor(arr, \u001b[39mself\u001b[39m\u001b[39m.\u001b[39mflavor)\n",
      "File \u001b[1;32m~\\AppData\\Local\\Packages\\PythonSoftwareFoundation.Python.3.11_qbz5n2kfra8p0\\LocalCache\\local-packages\\Python311\\site-packages\\tables\\table.py:1814\u001b[0m, in \u001b[0;36mTable._read\u001b[1;34m(self, start, stop, step, field, out)\u001b[0m\n\u001b[0;32m   1810\u001b[0m \u001b[39m# Call the routine to fill-up the resulting array\u001b[39;00m\n\u001b[0;32m   1811\u001b[0m \u001b[39mif\u001b[39;00m step \u001b[39m==\u001b[39m \u001b[39m1\u001b[39m \u001b[39mand\u001b[39;00m \u001b[39mnot\u001b[39;00m field:\n\u001b[0;32m   1812\u001b[0m     \u001b[39m# This optimization works three times faster than\u001b[39;00m\n\u001b[0;32m   1813\u001b[0m     \u001b[39m# the row._fill_col method (up to 170 MB/s on a pentium IV @ 2GHz)\u001b[39;00m\n\u001b[1;32m-> 1814\u001b[0m     \u001b[39mself\u001b[39;49m\u001b[39m.\u001b[39;49m_read_records(start, stop \u001b[39m-\u001b[39;49m start, result)\n\u001b[0;32m   1815\u001b[0m \u001b[39m# Warning!: _read_field_name should not be used until\u001b[39;00m\n\u001b[0;32m   1816\u001b[0m \u001b[39m# H5TBread_fields_name in tableextension will be finished\u001b[39;00m\n\u001b[0;32m   1817\u001b[0m \u001b[39m# F. Alted 2005/05/26\u001b[39;00m\n\u001b[0;32m   1818\u001b[0m \u001b[39m# XYX Ho implementem per a PyTables 2.0??\u001b[39;00m\n\u001b[0;32m   1819\u001b[0m \u001b[39melif\u001b[39;00m field \u001b[39mand\u001b[39;00m step \u001b[39m>\u001b[39m \u001b[39m15\u001b[39m \u001b[39mand\u001b[39;00m \u001b[39m0\u001b[39m:\n\u001b[0;32m   1820\u001b[0m     \u001b[39m# For step>15, this seems to work always faster than row._fill_col.\u001b[39;00m\n",
      "File \u001b[1;32m~\\AppData\\Local\\Packages\\PythonSoftwareFoundation.Python.3.11_qbz5n2kfra8p0\\LocalCache\\local-packages\\Python311\\site-packages\\tables\\tableextension.pyx:645\u001b[0m, in \u001b[0;36mtables.tableextension.Table._read_records\u001b[1;34m()\u001b[0m\n",
      "\u001b[1;31mHDF5ExtError\u001b[0m: HDF5 error back trace\n\n  File \"C:\\b\\abs_e4nt8ttmb0\\croot\\hdf5_1686163951797\\work\\src\\H5Dio.c\", line 179, in H5Dread\n    can't read data\n  File \"C:\\b\\abs_e4nt8ttmb0\\croot\\hdf5_1686163951797\\work\\src\\H5VLcallback.c\", line 2011, in H5VL_dataset_read\n    dataset read failed\n  File \"C:\\b\\abs_e4nt8ttmb0\\croot\\hdf5_1686163951797\\work\\src\\H5VLcallback.c\", line 1978, in H5VL__dataset_read\n    dataset read failed\n  File \"C:\\b\\abs_e4nt8ttmb0\\croot\\hdf5_1686163951797\\work\\src\\H5VLnative_dataset.c\", line 166, in H5VL__native_dataset_read\n    can't read data\n  File \"C:\\b\\abs_e4nt8ttmb0\\croot\\hdf5_1686163951797\\work\\src\\H5Dio.c\", line 545, in H5D__read\n    can't read data\n  File \"C:\\b\\abs_e4nt8ttmb0\\croot\\hdf5_1686163951797\\work\\src\\H5Dchunk.c\", line 2549, in H5D__chunk_read\n    unable to read raw data chunk\n  File \"C:\\b\\abs_e4nt8ttmb0\\croot\\hdf5_1686163951797\\work\\src\\H5Dchunk.c\", line 3904, in H5D__chunk_lock\n    data pipeline read failed\n  File \"C:\\b\\abs_e4nt8ttmb0\\croot\\hdf5_1686163951797\\work\\src\\H5Z.c\", line 1365, in H5Z_pipeline\n    required filter 'lzo' is not registered\n  File \"C:\\b\\abs_e4nt8ttmb0\\croot\\hdf5_1686163951797\\work\\src\\H5PLint.c\", line 261, in H5PL_load\n    search in path table failed\n  File \"C:\\b\\abs_e4nt8ttmb0\\croot\\hdf5_1686163951797\\work\\src\\H5PLpath.c\", line 802, in H5PL__find_plugin_in_path_table\n    search in path C:\\ProgramData\\hdf5\\lib\\plugin encountered an error\n  File \"C:\\b\\abs_e4nt8ttmb0\\croot\\hdf5_1686163951797\\work\\src\\H5PLpath.c\", line 936, in H5PL__find_plugin_in_path\n    can't open directory\n\nEnd of HDF5 error back trace\n\nProblems reading records."
     ]
    }
   ],
   "source": [
    "##df = pd.read_hdf('stocks.h5', 'stocks')\n",
    "df = store['stocks']"
   ]
  },
  {
   "cell_type": "code",
   "execution_count": null,
   "metadata": {},
   "outputs": [],
   "source": [
    "df.columns"
   ]
  },
  {
   "cell_type": "code",
   "execution_count": null,
   "metadata": {},
   "outputs": [],
   "source": [
    "store.select('stocks', stop=3)"
   ]
  },
  {
   "cell_type": "code",
   "execution_count": null,
   "metadata": {},
   "outputs": [],
   "source": [
    "s = store.get_storer('stocks')"
   ]
  },
  {
   "cell_type": "code",
   "execution_count": null,
   "metadata": {},
   "outputs": [],
   "source": [
    "s.nrows"
   ]
  },
  {
   "cell_type": "code",
   "execution_count": null,
   "metadata": {},
   "outputs": [],
   "source": [
    "df = store.select('stocks', '(index >= \"2010\") & (index < \"2012\")')"
   ]
  },
  {
   "cell_type": "code",
   "execution_count": null,
   "metadata": {},
   "outputs": [],
   "source": [
    "df.index.min(), df.index.max()"
   ]
  },
  {
   "cell_type": "code",
   "execution_count": null,
   "metadata": {},
   "outputs": [],
   "source": [
    "df = store.select('stocks', '(index >= \"2010\") & (index < \"2012\")', columns=['symbol', 'close', 'volume'])"
   ]
  },
  {
   "cell_type": "code",
   "execution_count": null,
   "metadata": {},
   "outputs": [],
   "source": []
  }
 ],
 "metadata": {
  "kernelspec": {
   "display_name": "Python 3",
   "language": "python",
   "name": "python3"
  },
  "language_info": {
   "codemirror_mode": {
    "name": "ipython",
    "version": 3
   },
   "file_extension": ".py",
   "mimetype": "text/x-python",
   "name": "python",
   "nbconvert_exporter": "python",
   "pygments_lexer": "ipython3",
   "version": "3.11.6"
  }
 },
 "nbformat": 4,
 "nbformat_minor": 2
}
