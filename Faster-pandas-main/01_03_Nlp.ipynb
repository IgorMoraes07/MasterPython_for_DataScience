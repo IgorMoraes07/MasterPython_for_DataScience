{
 "cells": [
  {
   "cell_type": "code",
   "execution_count": 1,
   "metadata": {},
   "outputs": [],
   "source": [
    "import re"
   ]
  },
  {
   "cell_type": "code",
   "execution_count": 2,
   "metadata": {},
   "outputs": [],
   "source": [
    "def stem(word):\n",
    "    \"\"\"Return stem of word\n",
    "\n",
    "    >>> stem('working')\n",
    "    'work'\n",
    "    >>> stem('works')\n",
    "    'work'\n",
    "    \"\"\"\n",
    "    return re.sub(r'(s|ing)$', '', word)"
   ]
  },
  {
   "cell_type": "code",
   "execution_count": 3,
   "metadata": {},
   "outputs": [],
   "source": [
    "def tokenize(text):\n",
    "    \"\"\"Split text to words, ignoring stop words.\"\"\"\n",
    "    tokens = []\n",
    "    for tok in re.findall('[a-zA-Z]+', text):\n",
    "        tok = tok.lower()\n",
    "        tok = stem(tok)\n",
    "        if tok not in stop_words:\n",
    "            tokens.append(tok)\n",
    "    return tokens"
   ]
  },
  {
   "cell_type": "code",
   "execution_count": 4,
   "metadata": {},
   "outputs": [],
   "source": [
    "stop_words = {\n",
    "    'a', 'able', 'about', 'across', 'after', 'all', 'almost', 'also', 'am',\n",
    "    'among', 'an', 'and', 'any', 'are', 'as', 'at', 'be', 'because', 'been',\n",
    "    'but', 'by', 'can', 'cannot', 'could', 'dear', 'did', 'do', 'does',\n",
    "    'either', 'else', 'ever', 'every', 'for', 'from', 'get', 'got', 'had',\n",
    "    'has', 'have', 'he', 'her', 'hers', 'him', 'his', 'how', 'however', 'i',\n",
    "    'if', 'in', 'into', 'is', 'it', 'its', 'just', 'least', 'let', 'like',\n",
    "    'likely', 'may', 'me', 'might', 'most', 'must', 'my', 'neither', 'no',\n",
    "    'nor', 'not', 'of', 'off', 'often', 'on', 'only', 'or', 'other', 'our',\n",
    "    'own', 'rather', 'said', 'say', 'says', 'she', 'should', 'since', 'so',\n",
    "    'some', 'than', 'that', 'the', 'their', 'them', 'then', 'there', 'these',\n",
    "    'they', 'this', 'tis', 'to', 'too', 'twas', 'us', 'wants', 'was', 'we',\n",
    "    'were', 'what', 'when', 'where', 'which', 'while', 'who', 'whom', 'why',\n",
    "    'will', 'with', 'would', 'yet', 'you', 'your',\n",
    "}\n"
   ]
  },
  {
   "cell_type": "code",
   "execution_count": 5,
   "metadata": {},
   "outputs": [],
   "source": [
    "%run nlp.py"
   ]
  },
  {
   "cell_type": "code",
   "execution_count": 6,
   "metadata": {},
   "outputs": [],
   "source": [
    "s = 'We will encourage you to develop the three gerat virtues of a programmer: laziness, impatience, and hubris'"
   ]
  },
  {
   "cell_type": "code",
   "execution_count": 7,
   "metadata": {},
   "outputs": [
    {
     "data": {
      "text/plain": [
       "['encourage',\n",
       " 'develop',\n",
       " 'three',\n",
       " 'gerat',\n",
       " 'virtue',\n",
       " 'programmer',\n",
       " 'lazines',\n",
       " 'impatience',\n",
       " 'hubri']"
      ]
     },
     "execution_count": 7,
     "metadata": {},
     "output_type": "execute_result"
    }
   ],
   "source": [
    "tokenize(s)"
   ]
  },
  {
   "cell_type": "code",
   "execution_count": 8,
   "metadata": {},
   "outputs": [
    {
     "name": "stdout",
     "output_type": "stream",
     "text": [
      " "
     ]
    },
    {
     "name": "stdout",
     "output_type": "stream",
     "text": [
      "         119 function calls in 0.000 seconds\n",
      "\n",
      "   Ordered by: internal time\n",
      "\n",
      "   ncalls  tottime  percall  cumtime  percall filename:lineno(function)\n",
      "        1    0.000    0.000    0.000    0.000 {built-in method builtins.exec}\n",
      "       17    0.000    0.000    0.000    0.000 {method 'sub' of 're.Pattern' objects}\n",
      "        1    0.000    0.000    0.000    0.000 nlp.py:15(tokenize)\n",
      "       18    0.000    0.000    0.000    0.000 __init__.py:272(_compile)\n",
      "       17    0.000    0.000    0.000    0.000 __init__.py:178(sub)\n",
      "        1    0.000    0.000    0.000    0.000 __init__.py:208(findall)\n",
      "       17    0.000    0.000    0.000    0.000 nlp.py:4(stem)\n",
      "        1    0.000    0.000    0.000    0.000 {method 'findall' of 're.Pattern' objects}\n",
      "       18    0.000    0.000    0.000    0.000 {built-in method builtins.isinstance}\n",
      "       17    0.000    0.000    0.000    0.000 {method 'lower' of 'str' objects}\n",
      "        1    0.000    0.000    0.000    0.000 <string>:1(<module>)\n",
      "        9    0.000    0.000    0.000    0.000 {method 'append' of 'list' objects}\n",
      "        1    0.000    0.000    0.000    0.000 {method 'disable' of '_lsprof.Profiler' objects}"
     ]
    }
   ],
   "source": [
    "%prun tokenize(s)"
   ]
  },
  {
   "cell_type": "code",
   "execution_count": 9,
   "metadata": {},
   "outputs": [
    {
     "name": "stdout",
     "output_type": "stream",
     "text": [
      " "
     ]
    },
    {
     "name": "stdout",
     "output_type": "stream",
     "text": [
      "         1160003 function calls in 0.541 seconds\n",
      "\n",
      "   Ordered by: internal time\n",
      "\n",
      "   ncalls  tottime  percall  cumtime  percall filename:lineno(function)\n",
      "    10000    0.130    0.000    0.535    0.000 nlp.py:15(tokenize)\n",
      "   170000    0.089    0.000    0.259    0.000 __init__.py:178(sub)\n",
      "   180000    0.081    0.000    0.110    0.000 __init__.py:272(_compile)\n",
      "   170000    0.066    0.000    0.066    0.000 {method 'sub' of 're.Pattern' objects}\n",
      "   170000    0.063    0.000    0.322    0.000 nlp.py:4(stem)\n",
      "    10000    0.044    0.000    0.044    0.000 {method 'findall' of 're.Pattern' objects}\n",
      "   180000    0.029    0.000    0.029    0.000 {built-in method builtins.isinstance}\n",
      "   170000    0.017    0.000    0.017    0.000 {method 'lower' of 'str' objects}\n",
      "    90000    0.010    0.000    0.010    0.000 {method 'append' of 'list' objects}\n",
      "        1    0.006    0.006    0.541    0.541 <string>:1(<module>)\n",
      "    10000    0.006    0.000    0.056    0.000 __init__.py:208(findall)\n",
      "        1    0.000    0.000    0.541    0.541 {built-in method builtins.exec}\n",
      "        1    0.000    0.000    0.000    0.000 {method 'disable' of '_lsprof.Profiler' objects}"
     ]
    }
   ],
   "source": [
    "%%prun\n",
    "for _ in range(10_000):\n",
    "    tokenize(s)"
   ]
  },
  {
   "cell_type": "code",
   "execution_count": null,
   "metadata": {},
   "outputs": [],
   "source": []
  }
 ],
 "metadata": {
  "kernelspec": {
   "display_name": "Python 3",
   "language": "python",
   "name": "python3"
  },
  "language_info": {
   "codemirror_mode": {
    "name": "ipython",
    "version": 3
   },
   "file_extension": ".py",
   "mimetype": "text/x-python",
   "name": "python",
   "nbconvert_exporter": "python",
   "pygments_lexer": "ipython3",
   "version": "3.11.6"
  }
 },
 "nbformat": 4,
 "nbformat_minor": 2
}
