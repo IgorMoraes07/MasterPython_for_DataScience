{
 "cells": [
  {
   "cell_type": "code",
   "execution_count": 3,
   "metadata": {},
   "outputs": [
    {
     "name": "stdout",
     "output_type": "stream",
     "text": [
      "dict_items([('205', 380), ('219', 15), ('234', '1'), ('262', 20), ('897', 3), ('281', 40), ('235', 13), ('166', 3), ('257', 27), ('714', 2), ('261', '1'), ('196', 7), ('721', 6), ('753', 2), ('273', 2), ('283', 8), ('180', 27), ('727', 12), ('239', 25), ('195', 6), ('639', 2), ('199', 7), ('480', 2), ('665', '1'), ('214', 3), ('762', 3), ('198', 17), ('643', 2), ('226', '1'), ('898', '1'), ('223', 4), ('730', 2), ('271', 3), ('292', 14), ('301', 7), ('871', '1'), ('521', '1'), ('228', 3), ('163', 6), ('274', 2), ('719', '1'), ('241', 2), ('469', 3), ('236', 10), ('557', '2'), ('787', 3), ('624', 3), ('293', 2), ('798', '1'), ('720', '1'), ('888', 11), ('648', 3), ('282', '1'), ('248', '2'), ('853', '1'), ('303', 4), ('755', 5), ('173', 4), ('569', '1'), ('161', '1'), ('797', '2'), ('165', 2), ('522', '1'), ('811', '1'), ('632', '1'), ('828', '1'), ('778', '1'), ('277', '1'), ('627', '1'), ('194', 4), ('576', 2), ('832', '2'), ('660', '1'), ('831', 5), ('833', '1'), ('644', 2), ('193', '1'), ('642', '1'), ('487', 2), ('278', '1'), ('221', '1'), ('496', '1'), ('835', '1'), ('211', 4), ('259', 5), ('275', '1'), ('618', '1'), ('923', '1'), ('162', '1'), ('168', '1'), ('206', 5), ('524', '1'), ('884', '1'), ('795', '1'), ('916', '2'), ('181', 6), ('838', '1'), ('770', '1'), ('289', 3), ('633', '1'), ('217', 2), ('931', '1'), ('691', '1'), ('541', '1'), ('476', 5), ('298', '1'), ('634', 2), ('841', 2), ('911', '1'), ('846', '1'), ('561', '1'), ('172', 3), ('809', '1'), ('564', '1'), ('606', '1'), ('905', '1'), ('666', '1'), ('483', '1'), ('817', '1'), ('473', 2), ('746', '1'), ('484', 3), ('697', '1'), ('591', '0'), ('855', '1'), ('670', '1'), ('197', 2), ('906', '1'), ('903', 1), ('550', 4), ('203', '1'), ('174', 2), ('812', '1'), ('860', '1'), ('263', '1'), ('863', 3), ('843', '1'), ('295', '1'), ('917', '1'), ('866', '1'), ('739', '1'), ('749', '1'), ('867', '1'), ('899', '1'), ('169', '1'), ('264', 2), ('920', '1'), ('900', '1'), ('213', 2), ('879', '1'), ('896', '1'), ('915', '1'), ('573', '1'), ('231', '1'), ('477', '1'), ('921', '1'), ('814', '1'), ('202', '1')])\n"
     ]
    }
   ],
   "source": [
    "\n",
    "#getting a dictionary from a text file\n",
    "#Getting a dictionary from a CSV file\n",
    "import  csv\n",
    "\n",
    "#Read the subdivisonname csv file to decode subdivison name\n",
    "#Dict is ideal data structure\n",
    "\n",
    "#Populate dict treeOrders with the order info, consolidation by subdivision id.\n",
    "with open('Exercise Files\\TreeOrdersSubset.csv', mode='r') as infile:\n",
    "    reader = csv.reader(infile)\n",
    "    treeOrders = {}      # dict has key as subdivison id, and value as the count of trees \n",
    "    for row in reader:\n",
    "        key = row[0]    #Sudvidision id\n",
    "        \n",
    " #remove this before recording.\n",
    "        if (key not in treeOrders):\n",
    "            treeNum = row[1]\n",
    "            treeOrders[key]= treeNum\n",
    "        else:\n",
    "            treeNum= row[1]\n",
    "            prev_count = treeOrders[key]\n",
    "            treeOrders[key]= int (prev_count) + int (treeNum)\n",
    "\n",
    "\n",
    "print (treeOrders.items())\n",
    "\n",
    "infile.close()"
   ]
  },
  {
   "cell_type": "code",
   "execution_count": null,
   "metadata": {},
   "outputs": [],
   "source": []
  }
 ],
 "metadata": {
  "kernelspec": {
   "display_name": "Python 3",
   "language": "python",
   "name": "python3"
  },
  "language_info": {
   "codemirror_mode": {
    "name": "ipython",
    "version": 3
   },
   "file_extension": ".py",
   "mimetype": "text/x-python",
   "name": "python",
   "nbconvert_exporter": "python",
   "pygments_lexer": "ipython3",
   "version": "3.11.6"
  }
 },
 "nbformat": 4,
 "nbformat_minor": 2
}
