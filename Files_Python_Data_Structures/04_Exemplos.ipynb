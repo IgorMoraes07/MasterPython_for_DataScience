{
 "cells": [
  {
   "cell_type": "code",
   "execution_count": 1,
   "metadata": {},
   "outputs": [],
   "source": [
    "sal_data_keys = [\"Austin\", \"Portland\", \"Dallas\",\"Atlanta\"]\n",
    "sal_data_values = [91185,110123, 89123, 112000]"
   ]
  },
  {
   "cell_type": "code",
   "execution_count": 2,
   "metadata": {},
   "outputs": [
    {
     "name": "stdout",
     "output_type": "stream",
     "text": [
      "#### Creating a dictionary without using comprehension\n",
      "{'Austin': 91185, 'Portland': 110123, 'Dallas': 89123, 'Atlanta': 112000}\n"
     ]
    }
   ],
   "source": [
    "sal_info = {}\n",
    "print(\"#### Creating a dictionary without using comprehension\")\n",
    "for key, value in zip(sal_data_keys,sal_data_values):\n",
    "\tsal_info[key] = value\n",
    "print (sal_info)"
   ]
  },
  {
   "cell_type": "code",
   "execution_count": 3,
   "metadata": {},
   "outputs": [],
   "source": [
    "#sal_info.clear()"
   ]
  },
  {
   "cell_type": "code",
   "execution_count": 7,
   "metadata": {},
   "outputs": [
    {
     "name": "stdout",
     "output_type": "stream",
     "text": [
      "#### Creating a dictionary using comprehension\n",
      "{'Austin': 91185, 'Portland': 110123, 'Dallas': 89123, 'Atlanta': 112000}\n"
     ]
    }
   ],
   "source": [
    "#Using Dictionary Comprehension to populate the dictionary\n",
    "print('#### Creating a dictionary using comprehension')\n",
    "\n",
    "sal_info = {sal_data_keys[indx]:sal_data_values[indx] for indx in range (0, len(sal_data_keys))}\n",
    "print(sal_info)"
   ]
  },
  {
   "cell_type": "code",
   "execution_count": 11,
   "metadata": {},
   "outputs": [
    {
     "name": "stdout",
     "output_type": "stream",
     "text": [
      "{'Portland': 110123, 'Atlanta': 112000}\n"
     ]
    }
   ],
   "source": [
    "sal_100k = {}\n",
    "for k in sal_info:\n",
    "    if sal_info[k] > 100000:\n",
    "        sal_100k[k] = sal_info[k]\n",
    "\n",
    "print(sal_100k)\n",
    "#sal_100k.clear()"
   ]
  },
  {
   "cell_type": "code",
   "execution_count": 12,
   "metadata": {},
   "outputs": [
    {
     "name": "stdout",
     "output_type": "stream",
     "text": [
      "{'Portland': 110123, 'Atlanta': 112000}\n"
     ]
    }
   ],
   "source": [
    "#filtering through the dictionary using comprehension\n",
    "sal_100k = {k : v for k, v in sal_info.items() if v > 100000}\n",
    "print(sal_100k)"
   ]
  },
  {
   "cell_type": "code",
   "execution_count": null,
   "metadata": {},
   "outputs": [],
   "source": []
  }
 ],
 "metadata": {
  "kernelspec": {
   "display_name": "Python 3",
   "language": "python",
   "name": "python3"
  },
  "language_info": {
   "codemirror_mode": {
    "name": "ipython",
    "version": 3
   },
   "file_extension": ".py",
   "mimetype": "text/x-python",
   "name": "python",
   "nbconvert_exporter": "python",
   "pygments_lexer": "ipython3",
   "version": "3.11.6"
  }
 },
 "nbformat": 4,
 "nbformat_minor": 2
}
