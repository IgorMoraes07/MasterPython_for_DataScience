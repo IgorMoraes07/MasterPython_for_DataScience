{
 "cells": [
  {
   "cell_type": "code",
   "execution_count": 1,
   "metadata": {},
   "outputs": [
    {
     "name": "stdout",
     "output_type": "stream",
     "text": [
      "{'Austin': 911985, 'Dallas': 89999, 'San Jose': 100989, 'Atlanta': 89286, 'Portland': 101367}\n"
     ]
    }
   ],
   "source": [
    "sal_info= dict ()\n",
    "sal_info={'Austin':911985, 'Dallas': 89999, 'San Jose': 100989, 'Atlanta': 89286,'Portland':101367}\n",
    "\n",
    "print(sal_info)"
   ]
  },
  {
   "cell_type": "code",
   "execution_count": 2,
   "metadata": {},
   "outputs": [
    {
     "name": "stdout",
     "output_type": "stream",
     "text": [
      "{'Austin': 911985, 'Dallas': 89999, 'San Jose': 100989, 'Atlanta': 92340, 'Portland': 101367}\n"
     ]
    }
   ],
   "source": [
    "#reassigns the salary for Atlanta\n",
    "sal_info['Atlanta']= 92340\n",
    "print(sal_info)"
   ]
  },
  {
   "cell_type": "code",
   "execution_count": 3,
   "metadata": {},
   "outputs": [],
   "source": [
    "#del sal_info['Atlanta']        # Comando del remove o valo entre [] do dicionário.\n",
    "#print(sal_info)"
   ]
  },
  {
   "cell_type": "code",
   "execution_count": 4,
   "metadata": {},
   "outputs": [],
   "source": [
    "#print(sal_info['Atlanta'])"
   ]
  },
  {
   "cell_type": "code",
   "execution_count": 5,
   "metadata": {},
   "outputs": [],
   "source": [
    "#del sal_info                   # Comando del remove o dicionário"
   ]
  },
  {
   "cell_type": "code",
   "execution_count": 6,
   "metadata": {},
   "outputs": [
    {
     "name": "stdout",
     "output_type": "stream",
     "text": [
      "{}\n"
     ]
    }
   ],
   "source": [
    "sal_info.clear()                # A função clear() limpa o dicionário\n",
    "print(sal_info)"
   ]
  },
  {
   "cell_type": "code",
   "execution_count": 7,
   "metadata": {},
   "outputs": [],
   "source": [
    "sal_info = {'Austin': 911985, 'Dallas': 89999, 'San Jose': 100989, 'Atlanta': 92340, 'Portland': 101367}\n",
    "\n",
    "if ('Seattle' not in sal_info):\n",
    "\tsal_info['Seattle']= 110340\n",
    "else:\n",
    "\tprint (\"key exists\")"
   ]
  },
  {
   "cell_type": "code",
   "execution_count": 8,
   "metadata": {},
   "outputs": [
    {
     "name": "stdout",
     "output_type": "stream",
     "text": [
      "{'Austin': 911985, 'Dallas': 89999, 'San Jose': 100989, 'Atlanta': 92340, 'Portland': 101367, 'Seattle': 110340}\n"
     ]
    }
   ],
   "source": [
    "print(sal_info)"
   ]
  },
  {
   "cell_type": "code",
   "execution_count": 9,
   "metadata": {},
   "outputs": [
    {
     "name": "stdout",
     "output_type": "stream",
     "text": [
      "89999\n",
      "101367\n"
     ]
    }
   ],
   "source": [
    "print(sal_info.get ('Dallas',\"not found\"))\n",
    "print(sal_info.get('Portland',\"not found\"))"
   ]
  },
  {
   "cell_type": "code",
   "execution_count": 10,
   "metadata": {},
   "outputs": [
    {
     "name": "stdout",
     "output_type": "stream",
     "text": [
      "dict_keys(['Austin', 'Dallas', 'San Jose', 'Atlanta', 'Portland', 'Seattle'])\n"
     ]
    }
   ],
   "source": [
    "print(sal_info.keys())"
   ]
  },
  {
   "cell_type": "code",
   "execution_count": 11,
   "metadata": {},
   "outputs": [
    {
     "name": "stdout",
     "output_type": "stream",
     "text": [
      "dict_values([911985, 89999, 100989, 92340, 101367, 110340])\n"
     ]
    }
   ],
   "source": [
    "print(sal_info.values())"
   ]
  },
  {
   "cell_type": "code",
   "execution_count": 12,
   "metadata": {},
   "outputs": [
    {
     "name": "stdout",
     "output_type": "stream",
     "text": [
      "Key-Value pair\n",
      "the Key is Austin the Value is  911985\n",
      "the Key is Dallas the Value is  89999\n",
      "the Key is San Jose the Value is  100989\n",
      "the Key is Atlanta the Value is  92340\n",
      "the Key is Portland the Value is  101367\n",
      "the Key is Seattle the Value is  110340\n"
     ]
    }
   ],
   "source": [
    "print(\"Key-Value pair\")\n",
    "for k,v in sal_info.items():\n",
    "\tprint(\"the Key is\", k, \"the Value is \", v)"
   ]
  },
  {
   "cell_type": "code",
   "execution_count": 13,
   "metadata": {},
   "outputs": [
    {
     "name": "stdout",
     "output_type": "stream",
     "text": [
      "City with highest Salary Austin\n"
     ]
    }
   ],
   "source": [
    "print(\"City with highest Salary \" + max(sal_info, key=sal_info.get))"
   ]
  },
  {
   "cell_type": "code",
   "execution_count": 14,
   "metadata": {},
   "outputs": [
    {
     "name": "stdout",
     "output_type": "stream",
     "text": [
      "City with lowest Salary Dallas\n"
     ]
    }
   ],
   "source": [
    "print(\"City with lowest Salary \" + min(sal_info, key=sal_info.get))"
   ]
  },
  {
   "cell_type": "code",
   "execution_count": 15,
   "metadata": {},
   "outputs": [
    {
     "name": "stdout",
     "output_type": "stream",
     "text": [
      "{'Austin': 911985, 'Dallas': 89999, 'San Jose': 100989, 'Atlanta': 92340, 'Portland': 101367, 'Seattle': 110340}\n",
      "Value of key 89999\n",
      "{'Austin': 911985, 'San Jose': 100989, 'Atlanta': 92340, 'Portland': 101367, 'Seattle': 110340}\n"
     ]
    }
   ],
   "source": [
    "# alternates to the del operator follow:\n",
    "print(sal_info)\n",
    "print(\"Value of key \" + str(sal_info.pop('Dallas', \"not found\")))\n",
    "print(sal_info)"
   ]
  },
  {
   "cell_type": "code",
   "execution_count": 16,
   "metadata": {},
   "outputs": [
    {
     "name": "stdout",
     "output_type": "stream",
     "text": [
      "('Seattle', 110340)\n",
      "{'Austin': 911985, 'San Jose': 100989, 'Atlanta': 92340, 'Portland': 101367}\n"
     ]
    }
   ],
   "source": [
    "print(sal_info.popitem())\n",
    "print(sal_info)"
   ]
  },
  {
   "cell_type": "code",
   "execution_count": 17,
   "metadata": {},
   "outputs": [
    {
     "name": "stdout",
     "output_type": "stream",
     "text": [
      "{'Austin': 911985, 'San Jose': 100989, 'Atlanta': 92340, 'Portland': 101367}\n",
      "['Atlanta', 'Austin', 'Portland', 'San Jose']\n",
      "[92340, 100989, 101367, 911985]\n"
     ]
    }
   ],
   "source": [
    "#prints dictionary with keys sorted\n",
    "print(sal_info)\n",
    "print(sorted(sal_info.keys()))\n",
    "print(sorted(sal_info.values()))"
   ]
  },
  {
   "cell_type": "code",
   "execution_count": 18,
   "metadata": {},
   "outputs": [
    {
     "name": "stdout",
     "output_type": "stream",
     "text": [
      "{'solitude': ['lone', 'lonely', 'alone', 'unaccompanied', 'without society'], 'hope': ['aspiration', 'desire', 'wish', 'expectation', 'ambition']}\n"
     ]
    }
   ],
   "source": [
    "eng_di = {}\n",
    "#Adding lists as value\n",
    "eng_di['solitude']= ['lone', 'lonely', 'alone', 'unaccompanied', 'without society']\n",
    "eng_di['hope']= ['aspiration', 'desire', 'wish', 'expectation', 'ambition']\n",
    "print (eng_di)"
   ]
  },
  {
   "cell_type": "code",
   "execution_count": 19,
   "metadata": {},
   "outputs": [
    {
     "name": "stdout",
     "output_type": "stream",
     "text": [
      "{'solitude': ['lone']}\n"
     ]
    }
   ],
   "source": [
    "#Creating a dictionary with an empty list\n",
    "eng_di.clear()\n",
    "eng_di = {'solitude':[]}\n",
    "eng_words = ['lone', 'lonely', 'alone', 'unaccompanied', 'without society']\n",
    "eng_di['solitude'].append(eng_words[0])\n",
    "print (eng_di)"
   ]
  },
  {
   "cell_type": "code",
   "execution_count": 20,
   "metadata": {},
   "outputs": [
    {
     "name": "stdout",
     "output_type": "stream",
     "text": [
      "{'solitude': ['lone', 'lonely', 'alone', 'unaccompanied', 'without society']}\n"
     ]
    }
   ],
   "source": [
    "eng_di['solitude']= eng_words\n",
    "print (eng_di)"
   ]
  },
  {
   "cell_type": "code",
   "execution_count": 21,
   "metadata": {},
   "outputs": [
    {
     "name": "stdout",
     "output_type": "stream",
     "text": [
      "lone\n",
      "lonely\n",
      "alone\n",
      "unaccompanied\n",
      "without society\n"
     ]
    }
   ],
   "source": [
    "if (eng_di.get('solitude')):\n",
    "\tfor list_item in eng_di['solitude']:\n",
    "\t\tprint (list_item)\n",
    "else:\n",
    "\tprint (\"word not in dictionary\")"
   ]
  },
  {
   "cell_type": "code",
   "execution_count": null,
   "metadata": {},
   "outputs": [],
   "source": []
  }
 ],
 "metadata": {
  "kernelspec": {
   "display_name": "Python 3",
   "language": "python",
   "name": "python3"
  },
  "language_info": {
   "codemirror_mode": {
    "name": "ipython",
    "version": 3
   },
   "file_extension": ".py",
   "mimetype": "text/x-python",
   "name": "python",
   "nbconvert_exporter": "python",
   "pygments_lexer": "ipython3",
   "version": "3.11.6"
  }
 },
 "nbformat": 4,
 "nbformat_minor": 2
}
