{
 "cells": [
  {
   "cell_type": "code",
   "execution_count": 1,
   "metadata": {},
   "outputs": [
    {
     "name": "stdout",
     "output_type": "stream",
     "text": [
      "Austin\n",
      "('Austin', 'Portland', 'Dallas')\n",
      "91345\n",
      "{'Austin': 81111, 'Dallas': 91345}\n"
     ]
    }
   ],
   "source": [
    "#tuples\n",
    "Cities = ('Austin', 'Portland', 'Dallas')\n",
    "print (Cities[0])\n",
    "\n",
    "print (Cities)\n",
    "\n",
    "citi_info = {'Austin': 81111,'Dallas': 91345}\n",
    "print (citi_info['Dallas'])\n",
    "print (citi_info)"
   ]
  },
  {
   "cell_type": "code",
   "execution_count": 2,
   "metadata": {},
   "outputs": [
    {
     "name": "stdout",
     "output_type": "stream",
     "text": [
      "{'Portland', 'Austin', 'Dallas'}\n",
      "Portland\n",
      "Austin\n",
      "Dallas\n"
     ]
    }
   ],
   "source": [
    "#sets\n",
    "city_names_set = {'Austin', 'Portland', 'Dallas','Austin'}\n",
    "print (city_names_set)\n",
    "for set_value in city_names_set:\n",
    "\tprint (set_value)"
   ]
  },
  {
   "cell_type": "code",
   "execution_count": null,
   "metadata": {},
   "outputs": [],
   "source": []
  }
 ],
 "metadata": {
  "kernelspec": {
   "display_name": "Python 3",
   "language": "python",
   "name": "python3"
  },
  "language_info": {
   "codemirror_mode": {
    "name": "ipython",
    "version": 3
   },
   "file_extension": ".py",
   "mimetype": "text/x-python",
   "name": "python",
   "nbconvert_exporter": "python",
   "pygments_lexer": "ipython3",
   "version": "3.11.6"
  }
 },
 "nbformat": 4,
 "nbformat_minor": 2
}
