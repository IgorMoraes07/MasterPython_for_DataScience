{
 "cells": [
  {
   "cell_type": "code",
   "execution_count": 7,
   "metadata": {},
   "outputs": [
    {
     "name": "stdout",
     "output_type": "stream",
     "text": [
      "length of dictionary  158\n"
     ]
    }
   ],
   "source": [
    " #getting a dictionary from a text file\n",
    "#Getting a dictionary from a CSV file\n",
    "import  csv\n",
    "\n",
    "\n",
    "with open('Exercise Files/TreeOrdersSubset.csv', mode='r') as infile:\n",
    "    reader = csv.reader(infile)\n",
    "    treeOrders = {}      # dict has key as subdivison id, and value as the count of trees \n",
    "    for row in reader:\n",
    "        key = row[0]    #Sudvidision id\n",
    "        \n",
    "        if (key not in treeOrders):\n",
    "            treeNum = row[1]\n",
    "            treeOrders[key] = int(treeNum)\n",
    "\n",
    "        else:\n",
    "            treeNum= row[1]\n",
    "            prev_count = treeOrders[key]\n",
    "            treeOrders[key]= int (prev_count) + int (treeNum)\n",
    "\n",
    "infile.close()\n",
    "print (\"length of dictionary \",len(treeOrders))"
   ]
  },
  {
   "cell_type": "code",
   "execution_count": 8,
   "metadata": {},
   "outputs": [
    {
     "name": "stdout",
     "output_type": "stream",
     "text": [
      "{'205': 380, '219': 15, '262': 20, '281': 40, '235': 13, '257': 27, '180': 27, '727': 12, '239': 25, '198': 17, '292': 14, '888': 11}\n",
      "length of dictionary  12\n"
     ]
    }
   ],
   "source": [
    "#Create a new dict treeOrders10 with subdivisions that have more than 10 tree orders\n",
    "#use dict comprehension\n",
    "treeOrders10 = { k:v for k,v in treeOrders.items() if v > 10}\n",
    "\n",
    "print (treeOrders10)\n",
    "print (\"length of dictionary \",len(treeOrders10))\t"
   ]
  },
  {
   "cell_type": "code",
   "execution_count": null,
   "metadata": {},
   "outputs": [],
   "source": []
  }
 ],
 "metadata": {
  "kernelspec": {
   "display_name": "Python 3",
   "language": "python",
   "name": "python3"
  },
  "language_info": {
   "codemirror_mode": {
    "name": "ipython",
    "version": 3
   },
   "file_extension": ".py",
   "mimetype": "text/x-python",
   "name": "python",
   "nbconvert_exporter": "python",
   "pygments_lexer": "ipython3",
   "version": "3.11.6"
  }
 },
 "nbformat": 4,
 "nbformat_minor": 2
}
