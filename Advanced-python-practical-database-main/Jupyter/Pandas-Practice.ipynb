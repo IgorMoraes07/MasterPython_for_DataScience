{
 "cells": [
  {
   "cell_type": "code",
   "execution_count": 18,
   "metadata": {},
   "outputs": [],
   "source": [
    "import pandas as pd\n",
    "import matplotlib"
   ]
  },
  {
   "cell_type": "code",
   "execution_count": 19,
   "metadata": {},
   "outputs": [],
   "source": [
    "df = pd.read_csv('red30.csv')"
   ]
  },
  {
   "cell_type": "code",
   "execution_count": 20,
   "metadata": {},
   "outputs": [
    {
     "data": {
      "text/html": [
       "<div>\n",
       "<style scoped>\n",
       "    .dataframe tbody tr th:only-of-type {\n",
       "        vertical-align: middle;\n",
       "    }\n",
       "\n",
       "    .dataframe tbody tr th {\n",
       "        vertical-align: top;\n",
       "    }\n",
       "\n",
       "    .dataframe thead th {\n",
       "        text-align: right;\n",
       "    }\n",
       "</style>\n",
       "<table border=\"1\" class=\"dataframe\">\n",
       "  <thead>\n",
       "    <tr style=\"text-align: right;\">\n",
       "      <th></th>\n",
       "      <th>order_num</th>\n",
       "      <th>order_type</th>\n",
       "      <th>cust_name</th>\n",
       "      <th>cust_state</th>\n",
       "      <th>prod_category</th>\n",
       "      <th>prod_number</th>\n",
       "      <th>prod_name</th>\n",
       "      <th>quantity</th>\n",
       "      <th>price</th>\n",
       "      <th>discount</th>\n",
       "      <th>order_total</th>\n",
       "    </tr>\n",
       "  </thead>\n",
       "  <tbody>\n",
       "    <tr>\n",
       "      <th>0</th>\n",
       "      <td>1100934</td>\n",
       "      <td>Wholesale</td>\n",
       "      <td>Gusikowski Group</td>\n",
       "      <td>North Carolina</td>\n",
       "      <td>Blueprints</td>\n",
       "      <td>BP102</td>\n",
       "      <td>Bsquare Robot Blueprint</td>\n",
       "      <td>10</td>\n",
       "      <td>8.99</td>\n",
       "      <td>1.8</td>\n",
       "      <td>88.1</td>\n",
       "    </tr>\n",
       "    <tr>\n",
       "      <th>1</th>\n",
       "      <td>1100935</td>\n",
       "      <td>Retail</td>\n",
       "      <td>Spencer Educators</td>\n",
       "      <td>Delaware</td>\n",
       "      <td>Drone Kits</td>\n",
       "      <td>DK204</td>\n",
       "      <td>BYOD-300</td>\n",
       "      <td>2</td>\n",
       "      <td>89.00</td>\n",
       "      <td>0.0</td>\n",
       "      <td>178.0</td>\n",
       "    </tr>\n",
       "    <tr>\n",
       "      <th>2</th>\n",
       "      <td>1100936</td>\n",
       "      <td>Wholesale</td>\n",
       "      <td>Schinner Inc.</td>\n",
       "      <td>Florida</td>\n",
       "      <td>Training Videos</td>\n",
       "      <td>TV801</td>\n",
       "      <td>Aerial Security</td>\n",
       "      <td>10</td>\n",
       "      <td>36.99</td>\n",
       "      <td>7.4</td>\n",
       "      <td>362.5</td>\n",
       "    </tr>\n",
       "    <tr>\n",
       "      <th>3</th>\n",
       "      <td>1100937</td>\n",
       "      <td>Retail</td>\n",
       "      <td>Saxon Laviss</td>\n",
       "      <td>Virginia</td>\n",
       "      <td>Robot Kits</td>\n",
       "      <td>RK602</td>\n",
       "      <td>BYOR-1000</td>\n",
       "      <td>1</td>\n",
       "      <td>189.00</td>\n",
       "      <td>0.0</td>\n",
       "      <td>189.0</td>\n",
       "    </tr>\n",
       "    <tr>\n",
       "      <th>4</th>\n",
       "      <td>1100938</td>\n",
       "      <td>Retail</td>\n",
       "      <td>Wilderman Technologies</td>\n",
       "      <td>Texas</td>\n",
       "      <td>eBooks</td>\n",
       "      <td>EB502</td>\n",
       "      <td>Building Your First Robot</td>\n",
       "      <td>4</td>\n",
       "      <td>24.95</td>\n",
       "      <td>0.0</td>\n",
       "      <td>99.8</td>\n",
       "    </tr>\n",
       "  </tbody>\n",
       "</table>\n",
       "</div>"
      ],
      "text/plain": [
       "   order_num order_type               cust_name      cust_state  \\\n",
       "0    1100934  Wholesale        Gusikowski Group  North Carolina   \n",
       "1    1100935     Retail       Spencer Educators        Delaware   \n",
       "2    1100936  Wholesale           Schinner Inc.         Florida   \n",
       "3    1100937     Retail            Saxon Laviss        Virginia   \n",
       "4    1100938     Retail  Wilderman Technologies           Texas   \n",
       "\n",
       "     prod_category prod_number                  prod_name  quantity   price  \\\n",
       "0       Blueprints       BP102    Bsquare Robot Blueprint        10    8.99   \n",
       "1       Drone Kits       DK204                   BYOD-300         2   89.00   \n",
       "2  Training Videos       TV801            Aerial Security        10   36.99   \n",
       "3       Robot Kits       RK602                  BYOR-1000         1  189.00   \n",
       "4           eBooks       EB502  Building Your First Robot         4   24.95   \n",
       "\n",
       "   discount  order_total  \n",
       "0       1.8         88.1  \n",
       "1       0.0        178.0  \n",
       "2       7.4        362.5  \n",
       "3       0.0        189.0  \n",
       "4       0.0         99.8  "
      ]
     },
     "execution_count": 20,
     "metadata": {},
     "output_type": "execute_result"
    }
   ],
   "source": [
    "df.head()"
   ]
  },
  {
   "cell_type": "code",
   "execution_count": 21,
   "metadata": {},
   "outputs": [
    {
     "data": {
      "text/html": [
       "<div>\n",
       "<style scoped>\n",
       "    .dataframe tbody tr th:only-of-type {\n",
       "        vertical-align: middle;\n",
       "    }\n",
       "\n",
       "    .dataframe tbody tr th {\n",
       "        vertical-align: top;\n",
       "    }\n",
       "\n",
       "    .dataframe thead th {\n",
       "        text-align: right;\n",
       "    }\n",
       "</style>\n",
       "<table border=\"1\" class=\"dataframe\">\n",
       "  <thead>\n",
       "    <tr style=\"text-align: right;\">\n",
       "      <th></th>\n",
       "      <th>order_num</th>\n",
       "      <th>order_type</th>\n",
       "      <th>cust_name</th>\n",
       "      <th>cust_state</th>\n",
       "      <th>prod_category</th>\n",
       "      <th>prod_number</th>\n",
       "      <th>prod_name</th>\n",
       "      <th>quantity</th>\n",
       "      <th>price</th>\n",
       "      <th>discount</th>\n",
       "      <th>order_total</th>\n",
       "    </tr>\n",
       "  </thead>\n",
       "  <tbody>\n",
       "    <tr>\n",
       "      <th>4971</th>\n",
       "      <td>1105905</td>\n",
       "      <td>Wholesale</td>\n",
       "      <td>Rau-Dickinson</td>\n",
       "      <td>Kentucky</td>\n",
       "      <td>eBooks</td>\n",
       "      <td>EB503</td>\n",
       "      <td>Building Your Own Drone</td>\n",
       "      <td>5</td>\n",
       "      <td>24.99</td>\n",
       "      <td>5.00</td>\n",
       "      <td>119.95</td>\n",
       "    </tr>\n",
       "    <tr>\n",
       "      <th>4972</th>\n",
       "      <td>1105906</td>\n",
       "      <td>Wholesale</td>\n",
       "      <td>Reichel and Sons</td>\n",
       "      <td>Oklahoma</td>\n",
       "      <td>eBooks</td>\n",
       "      <td>EB502</td>\n",
       "      <td>Building Your First Robot</td>\n",
       "      <td>5</td>\n",
       "      <td>24.95</td>\n",
       "      <td>4.99</td>\n",
       "      <td>119.76</td>\n",
       "    </tr>\n",
       "    <tr>\n",
       "      <th>4973</th>\n",
       "      <td>1105907</td>\n",
       "      <td>Wholesale</td>\n",
       "      <td>Wolff LLC</td>\n",
       "      <td>South Carolina</td>\n",
       "      <td>Blueprints</td>\n",
       "      <td>BP104</td>\n",
       "      <td>Cat Robot Blueprint</td>\n",
       "      <td>10</td>\n",
       "      <td>4.99</td>\n",
       "      <td>1.00</td>\n",
       "      <td>48.90</td>\n",
       "    </tr>\n",
       "    <tr>\n",
       "      <th>4974</th>\n",
       "      <td>1105908</td>\n",
       "      <td>Retail</td>\n",
       "      <td>McClure Inc.</td>\n",
       "      <td>Utah</td>\n",
       "      <td>Drone Kits</td>\n",
       "      <td>DK209</td>\n",
       "      <td>BYOD-550</td>\n",
       "      <td>64</td>\n",
       "      <td>179.00</td>\n",
       "      <td>0.00</td>\n",
       "      <td>11456.00</td>\n",
       "    </tr>\n",
       "    <tr>\n",
       "      <th>4975</th>\n",
       "      <td>1105909</td>\n",
       "      <td>Retail</td>\n",
       "      <td>Gussi Strodder</td>\n",
       "      <td>New York</td>\n",
       "      <td>Drone Kits</td>\n",
       "      <td>DK204</td>\n",
       "      <td>BYOD-300</td>\n",
       "      <td>1</td>\n",
       "      <td>89.00</td>\n",
       "      <td>0.00</td>\n",
       "      <td>89.00</td>\n",
       "    </tr>\n",
       "  </tbody>\n",
       "</table>\n",
       "</div>"
      ],
      "text/plain": [
       "      order_num order_type         cust_name      cust_state prod_category  \\\n",
       "4971    1105905  Wholesale     Rau-Dickinson        Kentucky        eBooks   \n",
       "4972    1105906  Wholesale  Reichel and Sons        Oklahoma        eBooks   \n",
       "4973    1105907  Wholesale         Wolff LLC  South Carolina    Blueprints   \n",
       "4974    1105908     Retail      McClure Inc.            Utah    Drone Kits   \n",
       "4975    1105909     Retail    Gussi Strodder        New York    Drone Kits   \n",
       "\n",
       "     prod_number                  prod_name  quantity   price  discount  \\\n",
       "4971       EB503    Building Your Own Drone         5   24.99      5.00   \n",
       "4972       EB502  Building Your First Robot         5   24.95      4.99   \n",
       "4973       BP104        Cat Robot Blueprint        10    4.99      1.00   \n",
       "4974       DK209                   BYOD-550        64  179.00      0.00   \n",
       "4975       DK204                   BYOD-300         1   89.00      0.00   \n",
       "\n",
       "      order_total  \n",
       "4971       119.95  \n",
       "4972       119.76  \n",
       "4973        48.90  \n",
       "4974     11456.00  \n",
       "4975        89.00  "
      ]
     },
     "execution_count": 21,
     "metadata": {},
     "output_type": "execute_result"
    }
   ],
   "source": [
    "df.tail()"
   ]
  },
  {
   "cell_type": "code",
   "execution_count": 22,
   "metadata": {},
   "outputs": [
    {
     "name": "stdout",
     "output_type": "stream",
     "text": [
      "<class 'pandas.core.frame.DataFrame'>\n",
      "RangeIndex: 4976 entries, 0 to 4975\n",
      "Data columns (total 11 columns):\n",
      " #   Column         Non-Null Count  Dtype  \n",
      "---  ------         --------------  -----  \n",
      " 0   order_num      4976 non-null   int64  \n",
      " 1   order_type     4976 non-null   object \n",
      " 2   cust_name      4976 non-null   object \n",
      " 3   cust_state     4976 non-null   object \n",
      " 4   prod_category  4976 non-null   object \n",
      " 5   prod_number    4976 non-null   object \n",
      " 6   prod_name      4976 non-null   object \n",
      " 7   quantity       4976 non-null   int64  \n",
      " 8   price          4976 non-null   float64\n",
      " 9   discount       4976 non-null   float64\n",
      " 10  order_total    4976 non-null   float64\n",
      "dtypes: float64(3), int64(2), object(6)\n",
      "memory usage: 427.8+ KB\n"
     ]
    }
   ],
   "source": [
    "df.info()"
   ]
  },
  {
   "cell_type": "code",
   "execution_count": 23,
   "metadata": {},
   "outputs": [
    {
     "data": {
      "text/html": [
       "<div>\n",
       "<style scoped>\n",
       "    .dataframe tbody tr th:only-of-type {\n",
       "        vertical-align: middle;\n",
       "    }\n",
       "\n",
       "    .dataframe tbody tr th {\n",
       "        vertical-align: top;\n",
       "    }\n",
       "\n",
       "    .dataframe thead th {\n",
       "        text-align: right;\n",
       "    }\n",
       "</style>\n",
       "<table border=\"1\" class=\"dataframe\">\n",
       "  <thead>\n",
       "    <tr style=\"text-align: right;\">\n",
       "      <th></th>\n",
       "      <th>order_num</th>\n",
       "      <th>quantity</th>\n",
       "      <th>price</th>\n",
       "      <th>discount</th>\n",
       "      <th>order_total</th>\n",
       "    </tr>\n",
       "  </thead>\n",
       "  <tbody>\n",
       "    <tr>\n",
       "      <th>count</th>\n",
       "      <td>4.976000e+03</td>\n",
       "      <td>4976.000000</td>\n",
       "      <td>4976.000000</td>\n",
       "      <td>4976.000000</td>\n",
       "      <td>4976.000000</td>\n",
       "    </tr>\n",
       "    <tr>\n",
       "      <th>mean</th>\n",
       "      <td>1.103422e+06</td>\n",
       "      <td>11.107516</td>\n",
       "      <td>126.849068</td>\n",
       "      <td>14.369566</td>\n",
       "      <td>1386.502020</td>\n",
       "    </tr>\n",
       "    <tr>\n",
       "      <th>std</th>\n",
       "      <td>1.436592e+03</td>\n",
       "      <td>20.367634</td>\n",
       "      <td>200.362183</td>\n",
       "      <td>32.763816</td>\n",
       "      <td>5107.252507</td>\n",
       "    </tr>\n",
       "    <tr>\n",
       "      <th>min</th>\n",
       "      <td>1.100934e+06</td>\n",
       "      <td>1.000000</td>\n",
       "      <td>4.990000</td>\n",
       "      <td>0.000000</td>\n",
       "      <td>4.990000</td>\n",
       "    </tr>\n",
       "    <tr>\n",
       "      <th>25%</th>\n",
       "      <td>1.102178e+06</td>\n",
       "      <td>1.000000</td>\n",
       "      <td>14.990000</td>\n",
       "      <td>0.000000</td>\n",
       "      <td>42.990000</td>\n",
       "    </tr>\n",
       "    <tr>\n",
       "      <th>50%</th>\n",
       "      <td>1.103422e+06</td>\n",
       "      <td>5.000000</td>\n",
       "      <td>31.470000</td>\n",
       "      <td>2.200000</td>\n",
       "      <td>179.035000</td>\n",
       "    </tr>\n",
       "    <tr>\n",
       "      <th>75%</th>\n",
       "      <td>1.104665e+06</td>\n",
       "      <td>10.000000</td>\n",
       "      <td>179.000000</td>\n",
       "      <td>8.600000</td>\n",
       "      <td>691.200000</td>\n",
       "    </tr>\n",
       "    <tr>\n",
       "      <th>max</th>\n",
       "      <td>1.105909e+06</td>\n",
       "      <td>109.000000</td>\n",
       "      <td>899.000000</td>\n",
       "      <td>179.800000</td>\n",
       "      <td>83708.400000</td>\n",
       "    </tr>\n",
       "  </tbody>\n",
       "</table>\n",
       "</div>"
      ],
      "text/plain": [
       "          order_num     quantity        price     discount   order_total\n",
       "count  4.976000e+03  4976.000000  4976.000000  4976.000000   4976.000000\n",
       "mean   1.103422e+06    11.107516   126.849068    14.369566   1386.502020\n",
       "std    1.436592e+03    20.367634   200.362183    32.763816   5107.252507\n",
       "min    1.100934e+06     1.000000     4.990000     0.000000      4.990000\n",
       "25%    1.102178e+06     1.000000    14.990000     0.000000     42.990000\n",
       "50%    1.103422e+06     5.000000    31.470000     2.200000    179.035000\n",
       "75%    1.104665e+06    10.000000   179.000000     8.600000    691.200000\n",
       "max    1.105909e+06   109.000000   899.000000   179.800000  83708.400000"
      ]
     },
     "execution_count": 23,
     "metadata": {},
     "output_type": "execute_result"
    }
   ],
   "source": [
    "df.describe()"
   ]
  },
  {
   "cell_type": "code",
   "execution_count": 24,
   "metadata": {},
   "outputs": [
    {
     "data": {
      "text/plain": [
       "prod_category\n",
       "eBooks             1296\n",
       "Training Videos     992\n",
       "Blueprints          912\n",
       "Drone Kits          552\n",
       "Robot Kits          480\n",
       "Drones              408\n",
       "Robots              336\n",
       "Name: count, dtype: int64"
      ]
     },
     "execution_count": 24,
     "metadata": {},
     "output_type": "execute_result"
    }
   ],
   "source": [
    "df['prod_category'].value_counts()"
   ]
  },
  {
   "cell_type": "code",
   "execution_count": 25,
   "metadata": {},
   "outputs": [
    {
     "data": {
      "text/plain": [
       "order_type\n",
       "Wholesale    2833\n",
       "Retail       2143\n",
       "Name: count, dtype: int64"
      ]
     },
     "execution_count": 25,
     "metadata": {},
     "output_type": "execute_result"
    }
   ],
   "source": [
    "df['order_type'].value_counts()"
   ]
  },
  {
   "cell_type": "code",
   "execution_count": 26,
   "metadata": {},
   "outputs": [
    {
     "data": {
      "text/plain": [
       "count     4976.000000\n",
       "mean      1386.502020\n",
       "std       5107.252507\n",
       "min          4.990000\n",
       "25%         42.990000\n",
       "50%        179.035000\n",
       "75%        691.200000\n",
       "max      83708.400000\n",
       "Name: order_total, dtype: float64"
      ]
     },
     "execution_count": 26,
     "metadata": {},
     "output_type": "execute_result"
    }
   ],
   "source": [
    "df['order_total'].describe()"
   ]
  },
  {
   "cell_type": "code",
   "execution_count": 27,
   "metadata": {},
   "outputs": [
    {
     "data": {
      "text/plain": [
       "order_total\n",
       "12.00       90\n",
       "8.99        90\n",
       "49.00       87\n",
       "4.99        86\n",
       "23.99       84\n",
       "            ..\n",
       "40612.20     1\n",
       "1385.01      1\n",
       "672.00       1\n",
       "1794.28      1\n",
       "11456.00     1\n",
       "Name: count, Length: 1215, dtype: int64"
      ]
     },
     "execution_count": 27,
     "metadata": {},
     "output_type": "execute_result"
    }
   ],
   "source": [
    "df['order_total'].value_counts()"
   ]
  },
  {
   "cell_type": "code",
   "execution_count": 28,
   "metadata": {},
   "outputs": [
    {
     "data": {
      "text/plain": [
       "<Axes: >"
      ]
     },
     "execution_count": 28,
     "metadata": {},
     "output_type": "execute_result"
    },
    {
     "data": {
      "image/png": "[encoded data removed]",
      "text/plain": [
       "<Figure size 640x480 with 1 Axes>"
      ]
     },
     "metadata": {},
     "output_type": "display_data"
    }
   ],
   "source": [
    "df['quantity'].hist()"
   ]
  },
  {
   "cell_type": "code",
   "execution_count": 29,
   "metadata": {},
   "outputs": [
    {
     "data": {
      "text/plain": [
       "<Axes: ylabel='prod_category'>"
      ]
     },
     "execution_count": 29,
     "metadata": {},
     "output_type": "execute_result"
    },
    {
     "data": {
      "image/png": "[encoded data removed]",
      "text/plain": [
       "<Figure size 640x480 with 1 Axes>"
      ]
     },
     "metadata": {},
     "output_type": "display_data"
    }
   ],
   "source": [
    "df['prod_category'].value_counts().plot(kind= 'barh')"
   ]
  },
  {
   "cell_type": "code",
   "execution_count": null,
   "metadata": {},
   "outputs": [],
   "source": []
  }
 ],
 "metadata": {
  "kernelspec": {
   "display_name": "Python 3",
   "language": "python",
   "name": "python3"
  },
  "language_info": {
   "codemirror_mode": {
    "name": "ipython",
    "version": 3
   },
   "file_extension": ".py",
   "mimetype": "text/x-python",
   "name": "python",
   "nbconvert_exporter": "python",
   "pygments_lexer": "ipython3",
   "version": "3.11.6"
  },
  "orig_nbformat": 4
 },
 "nbformat": 4,
 "nbformat_minor": 2
}
